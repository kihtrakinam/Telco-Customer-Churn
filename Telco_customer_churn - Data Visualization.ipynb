{
 "cells": [
  {
   "cell_type": "markdown",
   "id": "13aefc12",
   "metadata": {},
   "source": [
    "## Modules needed"
   ]
  },
  {
   "cell_type": "code",
   "execution_count": 1,
   "id": "da0f506d",
   "metadata": {},
   "outputs": [],
   "source": [
    "import numpy as np\n",
    "import pandas as pd\n",
    "import seaborn as sns\n",
    "import matplotlib.pyplot as plt\n",
    "\n",
    "import pickle\n",
    "import warnings\n",
    "warnings.filterwarnings('ignore')"
   ]
  },
  {
   "cell_type": "markdown",
   "id": "5aa00d6b",
   "metadata": {},
   "source": [
    "## Loading backed up data"
   ]
  },
  {
   "cell_type": "code",
   "execution_count": 2,
   "id": "f470d695",
   "metadata": {},
   "outputs": [],
   "source": [
    "churn_df_details = pickle.load(open('churn_df_details.pkl','rb'))"
   ]
  },
  {
   "cell_type": "code",
   "execution_count": 3,
   "id": "d41b612d",
   "metadata": {},
   "outputs": [],
   "source": [
    "df = churn_df_details['df']\n",
    "obj_cols = churn_df_details['obj_cols']\n",
    "num_cols = churn_df_details['num_cols']"
   ]
  },
  {
   "cell_type": "markdown",
   "id": "2b212ff9",
   "metadata": {},
   "source": [
    "## Data Visualization"
   ]
  },
  {
   "cell_type": "code",
   "execution_count": 4,
   "id": "d6367961",
   "metadata": {},
   "outputs": [],
   "source": [
    "plt.rcParams['font.size'] = '14'"
   ]
  },
  {
   "cell_type": "markdown",
   "id": "c8b5c1e5",
   "metadata": {},
   "source": [
    "### 1) Univariate Analysis"
   ]
  },
  {
   "cell_type": "markdown",
   "id": "6b661c2f",
   "metadata": {},
   "source": [
    "#### A) Numerical"
   ]
  },
  {
   "cell_type": "code",
   "execution_count": null,
   "id": "42ac6f69",
   "metadata": {},
   "outputs": [],
   "source": [
    "df.describe(percentiles=[0.1,0.2,0.25,0.5,0.75,0.9,0.95]).T"
   ]
  },
  {
   "cell_type": "code",
   "execution_count": null,
   "id": "674e8001",
   "metadata": {},
   "outputs": [],
   "source": [
    "plt.figure(figsize=(12,4))\n",
    "sns.histplot(x=df['tenure'],bins=np.arange(0,75,3))\n",
    "plt.xticks(np.arange(0,75,6))\n",
    "plt.show()\n",
    "\n",
    "plt.figure(figsize=(12,4))\n",
    "sns.histplot(x=df['MonthlyCharges'],bins=np.arange(0,120,10))\n",
    "plt.xticks(np.arange(0,120,10))\n",
    "plt.show()\n",
    "\n",
    "plt.figure(figsize=(12,4))\n",
    "sns.histplot(x=df['TotalCharges'],bins=np.arange(0,9000,500))\n",
    "plt.xticks(np.arange(0,9000,1000))\n",
    "plt.show()"
   ]
  },
  {
   "cell_type": "code",
   "execution_count": null,
   "id": "9226cbf6",
   "metadata": {},
   "outputs": [],
   "source": [
    "plt.figure(figsize=(16,4))\n",
    "ax1,ax2,ax3= [plt.subplot(1,3,i+1) for i in range(3)]\n",
    "axes = [ax1,ax2,ax3]\n",
    "\n",
    "for axis, num_col in zip(axes,num_cols): \n",
    "    sns.boxplot(x=df[num_col],ax=axis)\n",
    "#plt.savefig('Outliers_box_plot.jpg')\n",
    "plt.tight_layout()\n",
    "plt.show()"
   ]
  },
  {
   "cell_type": "markdown",
   "id": "51f2bea1",
   "metadata": {},
   "source": [
    "- Tenure :: peaks present in 0-6 months (new customers) and 69-72 months (long-term customers), remaining monthly bins nearly equally distributed\n",
    "- MonthlyCharges :: peak present in 20-30 units and 70-100 units of currency\n",
    "- TotalCharges :: Heavily left skewed, 50% of the customers have total charges less than 1400 units with the max value of 8684 units\n",
    "\n",
    "- No outliers present in the numerical variables"
   ]
  },
  {
   "cell_type": "markdown",
   "id": "359e4af2",
   "metadata": {},
   "source": [
    "#### B) Categorical"
   ]
  },
  {
   "cell_type": "code",
   "execution_count": null,
   "id": "fbd49be1",
   "metadata": {},
   "outputs": [],
   "source": [
    "plt.figure(figsize=(16,27))\n",
    "ax1,ax2,ax3,ax4,ax5,ax6,ax7,ax8,ax9,ax10,ax11,ax12,ax13,ax14,ax15,ax16,ax17,ax18= [plt.subplot(9,2,i+1) for i in range(18)]\n",
    "axes = [ax1,ax2,ax3,ax4,ax5,ax6,ax7,ax8,ax9,ax10,ax11,ax12,ax13,ax14,ax15,ax16,ax17,ax18]\n",
    "\n",
    "for axis, obj_col in zip(axes,obj_cols): \n",
    "    sns.countplot(y=df[obj_col],ax=axis)\n",
    "    #axis.set_yticklabels(axis.get_yticklabels(),rotation = 30)\n",
    "    \n",
    "plt.tight_layout()\n",
    "#plt.savefig('Outliers_box_plot.jpg')\n",
    "plt.show()"
   ]
  },
  {
   "cell_type": "markdown",
   "id": "3d26e159",
   "metadata": {},
   "source": [
    "- Nearly equal % of males and females in the customers\n",
    "- Most of the customers are not senior citizens and do not have dependents\n",
    "- Relatively more number of customers do not have partners\n",
    "- Most of the customers have subscribed to home phone service and in that relatively more number of customers are not subscribed for multiple lines\n",
    "- More customers are subscibed to Fiber optic followed by DSL. Remaining are not subscribed for Internet Service.\n",
    "- Most of the customers are not subscribed to Online Security, Online Backup, Device Protection, Streaming TV, Premium Tech Support or Streaming Movies\n",
    "- Comparatively Streaming TV and Streaming Movies are the most subscribed services\n",
    "- 55% of the customers are subscribed based on month to month contract\n",
    "- 59% of the customers have chosen Paperless billing\n",
    "- Most of the customers pays their bill through electronic check\n",
    "- 26% of the customers have left the company (churn) this quarter"
   ]
  },
  {
   "cell_type": "markdown",
   "id": "07b4050c",
   "metadata": {},
   "source": [
    "### 2) Bivariate Analysis"
   ]
  },
  {
   "cell_type": "markdown",
   "id": "b440c08d",
   "metadata": {},
   "source": [
    "#### A) Between numerical variables"
   ]
  },
  {
   "cell_type": "code",
   "execution_count": null,
   "id": "74a29d69",
   "metadata": {},
   "outputs": [],
   "source": [
    "sns.pairplot(df)\n",
    "plt.show()"
   ]
  },
  {
   "cell_type": "code",
   "execution_count": null,
   "id": "42763a4f",
   "metadata": {},
   "outputs": [],
   "source": [
    "corre = df.corr()\n",
    "sns.heatmap(corre,annot=True,cmap='seismic',vmin=-0.8,vmax=0.8,mask=np.triu(corre))\n",
    "plt.show()"
   ]
  },
  {
   "cell_type": "markdown",
   "id": "ee1f60b7",
   "metadata": {},
   "source": [
    "- High multicollinearity existing on the total charges variable with tenure and monthly charges"
   ]
  },
  {
   "cell_type": "markdown",
   "id": "2312c6c4",
   "metadata": {},
   "source": [
    "#### B) Numerical vs Categorical"
   ]
  },
  {
   "cell_type": "code",
   "execution_count": null,
   "id": "5135a480",
   "metadata": {},
   "outputs": [],
   "source": [
    "def numvscat(column):\n",
    "    plt.figure(figsize=(16,27))\n",
    "    ax1,ax2,ax3,ax4,ax5,ax6,ax7,ax8,ax9,ax10,ax11,ax12,ax13,ax14,ax15,ax16,ax17,ax18= [plt.subplot(9,2,i+1) for i in range(18)]\n",
    "    axes = [ax1,ax2,ax3,ax4,ax5,ax6,ax7,ax8,ax9,ax10,ax11,ax12,ax13,ax14,ax15,ax16,ax17,ax18]\n",
    "\n",
    "    for axis, obj_col in zip(axes,obj_cols): \n",
    "        sns.barplot(x=df[column],y=df[obj_col],ax=axis)\n",
    "        #axis.set_yticklabels(axis.get_yticklabels(),rotation = 30)\n",
    "\n",
    "    plt.tight_layout()\n",
    "    #plt.savefig('Outliers_box_plot.jpg')\n",
    "    plt.show()"
   ]
  },
  {
   "cell_type": "markdown",
   "id": "51433821",
   "metadata": {},
   "source": [
    "##### 1. Tenure"
   ]
  },
  {
   "cell_type": "code",
   "execution_count": null,
   "id": "fa6e63e4",
   "metadata": {
    "scrolled": false
   },
   "outputs": [],
   "source": [
    "numvscat('tenure')"
   ]
  },
  {
   "cell_type": "markdown",
   "id": "9b73465b",
   "metadata": {},
   "source": [
    "##### Average Tenure is relatively high for the customers \n",
    "- who are married or have dependendents\n",
    "- who have subscribed for muliple lines or internet sevice\n",
    "- who have opted for the other premium services\n",
    "- who have subscribed based on Two year contract\n",
    "- who pay bills automatically through bank transaction or credit card\n",
    "- for obvious reasons, who do not churn"
   ]
  },
  {
   "cell_type": "markdown",
   "id": "f5921c0f",
   "metadata": {},
   "source": [
    "##### 2. Monthly Charges"
   ]
  },
  {
   "cell_type": "code",
   "execution_count": null,
   "id": "c4aa4d25",
   "metadata": {
    "scrolled": false
   },
   "outputs": [],
   "source": [
    "numvscat('MonthlyCharges')"
   ]
  },
  {
   "cell_type": "markdown",
   "id": "6939b96c",
   "metadata": {},
   "source": [
    "##### Average Monthly Charges is relatively high for the customers \n",
    "- who are married or senior citizens\n",
    "- who do not have dependents, surprisingly!\n",
    "- who have subscribed for phone service or fiber optic internet sevice or muliple telephone lines \n",
    "- who have opted for the other premium services\n",
    "- who have subscribed based on month to month contract\n",
    "- who opt for paperless billing\n",
    "- who pay bills using electronic check\n",
    "- who left the company this quarter, again surprisingly!!"
   ]
  },
  {
   "cell_type": "markdown",
   "id": "58d3913a",
   "metadata": {},
   "source": [
    "##### 3. TotalCharges"
   ]
  },
  {
   "cell_type": "code",
   "execution_count": null,
   "id": "55a1550d",
   "metadata": {
    "scrolled": false
   },
   "outputs": [],
   "source": [
    "numvscat('TotalCharges')"
   ]
  },
  {
   "cell_type": "markdown",
   "id": "c0ecbb49",
   "metadata": {},
   "source": [
    "##### Average Total Charges is relatively high for the customers \n",
    "- who are married or senior citizens or have dependents\n",
    "- who have subscribed for phone service or fiber optic internet sevice or muliple telephone lines \n",
    "- who have opted for the other premium services\n",
    "- who have subscribed based on two year contract\n",
    "- who opt for paperless billing\n",
    "- who pay bills automatically through bank transaction or credit card\n",
    "- for obvious reasons, who do not churn"
   ]
  },
  {
   "cell_type": "markdown",
   "id": "b8c5e88a",
   "metadata": {},
   "source": [
    "#### C)  Categorical vs Numerical"
   ]
  },
  {
   "cell_type": "code",
   "execution_count": null,
   "id": "e10a344e",
   "metadata": {},
   "outputs": [],
   "source": [
    "print(obj_cols)"
   ]
  },
  {
   "cell_type": "code",
   "execution_count": null,
   "id": "0b600639",
   "metadata": {},
   "outputs": [],
   "source": [
    "def catvsnum(column):\n",
    "    plt.figure(figsize=(18,4))\n",
    "    ax1,ax2,ax3= [plt.subplot(1,3,i+1) for i in range(3)]\n",
    "    axes = [ax1,ax2,ax3]\n",
    "\n",
    "    for axis, num_col in zip(axes,num_cols): \n",
    "        sns.barplot(y=df[column],x=df[num_col],ax=axis)\n",
    "\n",
    "    #plt.savefig('Outliers_box_plot.jpg')\n",
    "    plt.tight_layout()\n",
    "    plt.show()"
   ]
  },
  {
   "cell_type": "markdown",
   "id": "d488ddc7",
   "metadata": {},
   "source": [
    "##### 1. gender"
   ]
  },
  {
   "cell_type": "code",
   "execution_count": null,
   "id": "d14b4ddb",
   "metadata": {},
   "outputs": [],
   "source": [
    "catvsnum('gender')"
   ]
  },
  {
   "cell_type": "markdown",
   "id": "83fe9eb1",
   "metadata": {},
   "source": [
    "- No distinction in numerical variables based on the gender of the customer"
   ]
  },
  {
   "cell_type": "markdown",
   "id": "603996b7",
   "metadata": {},
   "source": [
    "##### 2. SeniorCitizen"
   ]
  },
  {
   "cell_type": "code",
   "execution_count": null,
   "id": "37be49a9",
   "metadata": {},
   "outputs": [],
   "source": [
    "catvsnum('SeniorCitizen')"
   ]
  },
  {
   "cell_type": "markdown",
   "id": "cc6e7c0a",
   "metadata": {},
   "source": [
    "- Though there is no distinction in avg tenure, avg Monthly Charges and avg Total Charges are high for senior citizens"
   ]
  },
  {
   "cell_type": "markdown",
   "id": "c773579a",
   "metadata": {},
   "source": [
    "##### 3. Partner"
   ]
  },
  {
   "cell_type": "code",
   "execution_count": null,
   "id": "684d7403",
   "metadata": {},
   "outputs": [],
   "source": [
    "catvsnum('Partner')"
   ]
  },
  {
   "cell_type": "markdown",
   "id": "87004cfa",
   "metadata": {},
   "source": [
    "- Avg Tenure, avg Monthly Charges and avg Total Charges are high for customers who are married"
   ]
  },
  {
   "cell_type": "markdown",
   "id": "339e5b02",
   "metadata": {},
   "source": [
    "##### 4. Dependents"
   ]
  },
  {
   "cell_type": "code",
   "execution_count": null,
   "id": "b583e626",
   "metadata": {},
   "outputs": [],
   "source": [
    "catvsnum('Dependents')"
   ]
  },
  {
   "cell_type": "markdown",
   "id": "beb9d1f5",
   "metadata": {},
   "source": [
    "- Avg Montly charges are high for customers who do not have dependents\n",
    "- Avg Tenure and avg Total Charges are high for customers who have dependents"
   ]
  },
  {
   "cell_type": "markdown",
   "id": "281f4f76",
   "metadata": {},
   "source": [
    "##### 5. PhoneService"
   ]
  },
  {
   "cell_type": "code",
   "execution_count": null,
   "id": "eca429b1",
   "metadata": {},
   "outputs": [],
   "source": [
    "catvsnum('PhoneService')"
   ]
  },
  {
   "cell_type": "markdown",
   "id": "8dec0b25",
   "metadata": {},
   "source": [
    "- Though there is no distinction in avg tenure, avg Monthly Charges and avg Total Charges are high for customers who are subscribed to phone service"
   ]
  },
  {
   "cell_type": "markdown",
   "id": "9cf0ce58",
   "metadata": {},
   "source": [
    "##### 6. MultipleLines"
   ]
  },
  {
   "cell_type": "code",
   "execution_count": null,
   "id": "97324463",
   "metadata": {},
   "outputs": [],
   "source": [
    "catvsnum('MultipleLines')"
   ]
  },
  {
   "cell_type": "markdown",
   "id": "65cfca07",
   "metadata": {},
   "source": [
    "- Avg Tenure and Avg Total charges is the least for the customers who have subscribed for phone service but not for Multiple telephone lines\n",
    "- Avg Tenure, avg Monthly Charges and avg Total Charges are high for customers who have subscribed for Multiple telephone lines"
   ]
  },
  {
   "cell_type": "markdown",
   "id": "ef555491",
   "metadata": {},
   "source": [
    "##### 7. InternetService"
   ]
  },
  {
   "cell_type": "code",
   "execution_count": null,
   "id": "db386ee9",
   "metadata": {},
   "outputs": [],
   "source": [
    "catvsnum('InternetService')"
   ]
  },
  {
   "cell_type": "markdown",
   "id": "5ad094cc",
   "metadata": {},
   "source": [
    "- Average tenure is high for the customers who have suscribed for Internet service\n",
    "- Average Monthly charges and Total charges are high for customers who opted for Fiber optic followed by DSL"
   ]
  },
  {
   "cell_type": "markdown",
   "id": "d8b24b48",
   "metadata": {},
   "source": [
    "##### 8. OnlineSecurity"
   ]
  },
  {
   "cell_type": "code",
   "execution_count": null,
   "id": "8203b206",
   "metadata": {},
   "outputs": [],
   "source": [
    "catvsnum('OnlineSecurity')"
   ]
  },
  {
   "cell_type": "markdown",
   "id": "6d148378",
   "metadata": {},
   "source": [
    "- Avg Tenure is the least for the customers who have subscribed for internet service but not for Online Security\n",
    "- Avg Tenure and avg Total Charges are high for customers who have subscribed for Online Security\n",
    "- Avg Monthly Charges is high for customers who have opted for internet service"
   ]
  },
  {
   "cell_type": "markdown",
   "id": "6f2a8672",
   "metadata": {},
   "source": [
    "##### 9. OnlineBackup"
   ]
  },
  {
   "cell_type": "code",
   "execution_count": null,
   "id": "0f1a009b",
   "metadata": {},
   "outputs": [],
   "source": [
    "catvsnum('OnlineBackup')"
   ]
  },
  {
   "cell_type": "markdown",
   "id": "13a30003",
   "metadata": {},
   "source": [
    "- Avg Tenure is the least for the customers who have subscribed for internet service but not for Online Backup\n",
    "- Avg Tenure, avg Monthly Charges and avg Total Charges are high for customers who have subscribed for Online Backup"
   ]
  },
  {
   "cell_type": "markdown",
   "id": "6fa780e0",
   "metadata": {},
   "source": [
    "##### 10. DeviceProtection"
   ]
  },
  {
   "cell_type": "code",
   "execution_count": null,
   "id": "f85cf7b5",
   "metadata": {},
   "outputs": [],
   "source": [
    "catvsnum('DeviceProtection')"
   ]
  },
  {
   "cell_type": "markdown",
   "id": "4953ae2f",
   "metadata": {},
   "source": [
    "- Avg Tenure is the least for the customers who have subscribed for internet service but not for Device protection\n",
    "- Avg Tenure, avg Monthly Charges and avg Total Charges are high for customers who have subscribed for Device protection"
   ]
  },
  {
   "cell_type": "markdown",
   "id": "b6e57ccd",
   "metadata": {},
   "source": [
    "##### 11. TechSupport"
   ]
  },
  {
   "cell_type": "code",
   "execution_count": null,
   "id": "9bfd29cc",
   "metadata": {},
   "outputs": [],
   "source": [
    "catvsnum('TechSupport')"
   ]
  },
  {
   "cell_type": "markdown",
   "id": "a0009f06",
   "metadata": {},
   "source": [
    "- Avg Tenure is the least for the customers who have subscribed for internet service but not for Premium Tech Support\n",
    "- Avg Tenure, avg Monthly Charges and avg Total Charges are high for customers who have subscribed for Premium Tech Support"
   ]
  },
  {
   "cell_type": "markdown",
   "id": "4cb9f199",
   "metadata": {},
   "source": [
    "##### 12. StreamingTV"
   ]
  },
  {
   "cell_type": "code",
   "execution_count": null,
   "id": "4d2c34e8",
   "metadata": {},
   "outputs": [],
   "source": [
    "catvsnum('StreamingTV')"
   ]
  },
  {
   "cell_type": "markdown",
   "id": "ace4fac8",
   "metadata": {},
   "source": [
    "- Avg Tenure is the least for the customers who have subscribed for internet service but not for Streaming TV\n",
    "- Avg Tenure, avg Monthly Charges and avg Total Charges are high for customers who have subscribed for Streaming TV"
   ]
  },
  {
   "cell_type": "markdown",
   "id": "fe362499",
   "metadata": {},
   "source": [
    "##### 13. StreamingMovies"
   ]
  },
  {
   "cell_type": "code",
   "execution_count": null,
   "id": "ab2dec38",
   "metadata": {},
   "outputs": [],
   "source": [
    "catvsnum('StreamingMovies')"
   ]
  },
  {
   "cell_type": "markdown",
   "id": "7374fb60",
   "metadata": {},
   "source": [
    "- Avg Tenure is the least for the customers who have subscribed for internet service but not for Streaming Movies\n",
    "- Avg Tenure, avg Monthly Charges and avg Total Charges are high for customers who have subscribed for Streaming Movies"
   ]
  },
  {
   "cell_type": "markdown",
   "id": "8e9ef625",
   "metadata": {},
   "source": [
    "##### 14. Contract"
   ]
  },
  {
   "cell_type": "code",
   "execution_count": null,
   "id": "b3e2d00d",
   "metadata": {},
   "outputs": [],
   "source": [
    "catvsnum('Contract')"
   ]
  },
  {
   "cell_type": "markdown",
   "id": "525bffad",
   "metadata": {},
   "source": [
    "- Avg Tenure and avg Total Charges for customers based on their contract in the following order : Two year > One year > Month-to-month\n",
    "- Avg Monthly Charges is high for customers who have subscribed based on Month-to-month or One year contract"
   ]
  },
  {
   "cell_type": "markdown",
   "id": "46c5fdc6",
   "metadata": {},
   "source": [
    "##### 15. PaperlessBilling"
   ]
  },
  {
   "cell_type": "code",
   "execution_count": null,
   "id": "d70056e1",
   "metadata": {},
   "outputs": [],
   "source": [
    "catvsnum('PaperlessBilling')"
   ]
  },
  {
   "cell_type": "markdown",
   "id": "09b06eff",
   "metadata": {},
   "source": [
    "- Though there is no distinction in avg tenure, avg Monthly Charges and avg Total Charges are high for customers who opted for Paperless billing"
   ]
  },
  {
   "cell_type": "markdown",
   "id": "5021921a",
   "metadata": {},
   "source": [
    "##### 16. PaymentMethod"
   ]
  },
  {
   "cell_type": "code",
   "execution_count": null,
   "id": "3bbfa87e",
   "metadata": {},
   "outputs": [],
   "source": [
    "catvsnum('PaymentMethod')"
   ]
  },
  {
   "cell_type": "markdown",
   "id": "00e58ae1",
   "metadata": {},
   "source": [
    "- Avg Tenure and avg Total Charges for customers based on their payment order in the following order : Automatic(Bank transfer/Credit Card) > Electronic check > Mailed check\n",
    "- avg Monthly Charges for customers based on their payment order in the following order : Electronic check > Automatic(Bank transfer/Credit Card) > Mailed check"
   ]
  },
  {
   "cell_type": "markdown",
   "id": "95d4f0de",
   "metadata": {},
   "source": [
    "#### D)  Categorical vs Categorical"
   ]
  },
  {
   "cell_type": "code",
   "execution_count": null,
   "id": "03d7b575",
   "metadata": {},
   "outputs": [],
   "source": [
    "def catvscat(column):\n",
    "    temp_obj_cols = obj_cols.copy()\n",
    "    temp_obj_cols.remove(column)\n",
    "\n",
    "    plt.figure(figsize=(24,24))\n",
    "    ax1,ax2,ax3,ax4,ax5,ax6,ax7,ax8,ax9,ax10,ax11,ax12,ax13,ax14,ax15,ax16= [plt.subplot(8,2,i+1) for i in range(16)]\n",
    "    axes = [ax1,ax2,ax3,ax4,ax5,ax6,ax7,ax8,ax9,ax10,ax11,ax12,ax13,ax14,ax15,ax16]\n",
    "\n",
    "    for axis, obj_col in zip(axes,temp_obj_cols): \n",
    "        cross_tab_prop = pd.crosstab(df[column],df[obj_col],normalize='index')\n",
    "        cross_tab_prop.plot(kind='barh',stacked=True,ax=axis)\n",
    "        axis.legend(loc=\"center\",ncol=1,fontsize='x-small',bbox_to_anchor=(1.15, 0.8))\n",
    "        axis.set_xlabel(f'Ratio of {obj_col}')\n",
    "        \n",
    "        #sns.countplot(y=df[column],hue=df[obj_col],ax=axis)\n",
    "\n",
    "    #plt.savefig('Outliers_box_plot.jpg')\n",
    "    plt.tight_layout()\n",
    "    plt.show()"
   ]
  },
  {
   "cell_type": "markdown",
   "id": "c142a66e",
   "metadata": {},
   "source": [
    "##### 1. gender"
   ]
  },
  {
   "cell_type": "code",
   "execution_count": null,
   "id": "b5640aed",
   "metadata": {
    "scrolled": false
   },
   "outputs": [],
   "source": [
    "catvscat('gender')"
   ]
  },
  {
   "cell_type": "markdown",
   "id": "9c47dab1",
   "metadata": {},
   "source": [
    "- No distinction based on gender in any of the categorical variables"
   ]
  },
  {
   "cell_type": "markdown",
   "id": "48aeac41",
   "metadata": {},
   "source": [
    "##### 2. SeniorCitizen"
   ]
  },
  {
   "cell_type": "code",
   "execution_count": null,
   "id": "5b4b59f3",
   "metadata": {},
   "outputs": [],
   "source": [
    "catvscat('SeniorCitizen')"
   ]
  },
  {
   "cell_type": "markdown",
   "id": "c471f892",
   "metadata": {},
   "source": [
    "For customers who are **SeniorCitizens**,\n",
    "- the ratio of dependents are high\n",
    "- the ratio of subscription to Multiple telephone lines is high\n",
    "- the ratio of subscription to Fiber optic Internet Service is high\n",
    "- the ratio of subscription to premium services such as OnlineBackup, DeviceProtection, StreamingTV and StreamingMovies are high where to OnlineSecurity and PremiumTechSupport are low\n",
    "- ratio of Month-to-month contract is high\n",
    "- ratio of Paperless Billing is high\n",
    "- ratio of payment by Electronic Check is high\n",
    "- ratio of **churn rate** is high"
   ]
  },
  {
   "cell_type": "markdown",
   "id": "53bd41d4",
   "metadata": {},
   "source": [
    "##### 3. Partner"
   ]
  },
  {
   "cell_type": "code",
   "execution_count": null,
   "id": "38def5ef",
   "metadata": {},
   "outputs": [],
   "source": [
    "catvscat('Partner')"
   ]
  },
  {
   "cell_type": "markdown",
   "id": "ee307a34",
   "metadata": {},
   "source": [
    "For customers who are **married**,\n",
    "- the ratio of dependents are high\n",
    "- the ratio of subscription to Multiple telephone lines is high\n",
    "- the ratio of subscription to all the premium services are high\n",
    "- ratio of Two year contract is high\n",
    "- ratio of automatic payment(Bank-transfer/Credit-card) is high\n",
    "\n",
    "For customers who are **not married**,\n",
    "- ratio of **churn rate** is high"
   ]
  },
  {
   "cell_type": "markdown",
   "id": "8ca3f78e",
   "metadata": {},
   "source": [
    "##### 4. Dependents"
   ]
  },
  {
   "cell_type": "code",
   "execution_count": null,
   "id": "b72fda02",
   "metadata": {},
   "outputs": [],
   "source": [
    "catvscat('Dependents')"
   ]
  },
  {
   "cell_type": "markdown",
   "id": "fbcfb846",
   "metadata": {},
   "source": [
    "For customers who lives with any **dependents**,\n",
    "- the ratio of martial status being married is high\n",
    "- the ratio of subscription to all the premium services except StreamingTV and StreamingMovies are high\n",
    "- ratio of Two year contract is high\n",
    "- ratio of automatic payment(Bank-transfer/Credit-card) is high\n",
    "\n",
    "For customers who lives with any **dependents**,\n",
    "- the ratio of senior citizens is high\n",
    "- the ratio of subscription to fiber optic internet service is high\n",
    "- the ratio of opting to Paperless billing is high\n",
    "- ratio of **churn rate** is high"
   ]
  },
  {
   "cell_type": "markdown",
   "id": "5c2f15a9",
   "metadata": {},
   "source": [
    "##### 5. PhoneService"
   ]
  },
  {
   "cell_type": "code",
   "execution_count": null,
   "id": "b04e85b9",
   "metadata": {},
   "outputs": [],
   "source": [
    "catvscat('PhoneService')"
   ]
  },
  {
   "cell_type": "markdown",
   "id": "93aac9d2",
   "metadata": {},
   "source": [
    "For customers who have subscribed for **Phone Service**,\n",
    "- the ratio of martial status being married is high\n",
    "\n",
    "For customers who have **not** subscribed for **Phone Service**,\n",
    "- but subscribed for internet service, all of them use DSL internet service\n",
    "- the ratio of subscription to premium services is constant across"
   ]
  },
  {
   "cell_type": "markdown",
   "id": "b75e71f1",
   "metadata": {},
   "source": [
    "##### 6. MultipleLines"
   ]
  },
  {
   "cell_type": "code",
   "execution_count": null,
   "id": "7da4a06f",
   "metadata": {},
   "outputs": [],
   "source": [
    "catvscat('MultipleLines')"
   ]
  },
  {
   "cell_type": "markdown",
   "id": "970c4c0a",
   "metadata": {},
   "source": [
    "For customers who are subscribed with **multiple telephone lines**,\n",
    "- the ratio of senior citizens is high\n",
    "- the ratio of martial status being married is high\n",
    "- the ratio of subscription to fiber optic internet service is high\n",
    "- the ratio of subscription to all the premium services except StreamingTV and StreamingMovies are high\n",
    "- ratio of Two year contract is high\n",
    "- the ratio of opting to Paperless billing is high\n",
    "- ratio of automatic payment(Bank-transfer/Credit-card) is high\n",
    "\n",
    "For customers who are **not** subscribed with **multiple telephone lines**,\n",
    "- ratio of payment through mailed check is high"
   ]
  },
  {
   "cell_type": "markdown",
   "id": "8eedff80",
   "metadata": {},
   "source": [
    "##### 7. InternetService"
   ]
  },
  {
   "cell_type": "code",
   "execution_count": null,
   "id": "cd4f4eec",
   "metadata": {},
   "outputs": [],
   "source": [
    "catvscat('InternetService')"
   ]
  },
  {
   "cell_type": "markdown",
   "id": "bb329dd5",
   "metadata": {},
   "source": [
    "1) Fiber optic > DSL > No internet service\n",
    "- the ratio of senior citizens\n",
    "- the ratio of customers with dependents\n",
    "- the ratio of subscription to multiple telephone lines\n",
    "- the ratio of **Month-to-month** contract\n",
    "- the ratio of payment method by **Electronic check**\n",
    "- the ratio of subscription to **paperless billing** and \n",
    "- the ratio of **churn rate**\n",
    "\n",
    "2) Fiber optic > DSL\n",
    "- the ratio of subscription to all the premium services such as StreamingTV and StreamingMovies\n",
    "\n",
    "3) DSL > No internet service > Fiber optic\n",
    "- the ratio of **automatic payment** method\n",
    "\n",
    "4) DSL > Fiber optic\n",
    "- the ratio of subscription to all the premium services such as OnlineSecurity and premium Tech support\n",
    "\n",
    "5) No internet service > DSL > Fiber optic\n",
    "- the ratio of **two year** contract\n",
    "- the ratio of payment method by **mailed check** \n",
    "\n",
    "Other inferences\n",
    "- All the customers who are subscribed for **InternetService** with **Fiber-optic** are subscribed to phone service \n",
    "- Some of the customers who are subscribed for **InternetService** with **DSL** do not have subscription to phone service"
   ]
  },
  {
   "cell_type": "markdown",
   "id": "e87c3c66",
   "metadata": {},
   "source": [
    "##### 8. OnlineSecurity"
   ]
  },
  {
   "cell_type": "code",
   "execution_count": null,
   "id": "286c1f40",
   "metadata": {
    "scrolled": false
   },
   "outputs": [],
   "source": [
    "catvscat('OnlineSecurity')"
   ]
  },
  {
   "cell_type": "markdown",
   "id": "fc03c3d6",
   "metadata": {},
   "source": [
    "For customers who are subscribed for **OnlineSecurity**,\n",
    "- the ratio of martial status as married is high\n",
    "- the ratio of living with dependents is high\n",
    "- the ratio of subscription to the premium services such as OnlineBackup, DeviceProtection and premium Tech support are high\n",
    "- the ratio of two year contract mode is high\n",
    "- the ratio of automatic payment is high\n",
    "\n",
    "For customers who are **not** subscribed for **OnlineSecurity**,\n",
    "- the ratio of senior citizens is high\n",
    "- the ratio of subscription to internet service by Fiber-optic is high\n",
    "- the ratio of Month-to-month contract mode is high\n",
    "- the ratio of subscription to Paperless billing is high\n",
    "- the ratio of payment by Electronic check is high\n",
    "- the ratio of **churn rate** is high"
   ]
  },
  {
   "cell_type": "markdown",
   "id": "cbfea304",
   "metadata": {},
   "source": [
    "##### 9. OnlineBackup"
   ]
  },
  {
   "cell_type": "code",
   "execution_count": null,
   "id": "67835d47",
   "metadata": {},
   "outputs": [],
   "source": [
    "catvscat('OnlineBackup')"
   ]
  },
  {
   "cell_type": "markdown",
   "id": "95e30886",
   "metadata": {},
   "source": [
    "For customers who are subscribed for **OnlineBackup**,\n",
    "- the ratio of martial status as married is high\n",
    "- the ratio of living with dependents is high\n",
    "- the ratio of subscription to all the premium services are high\n",
    "- the ratio of two year contract mode is high\n",
    "- the ratio of automatic payment is high\n",
    "\n",
    "For customers who are **not** subscribed for **OnlineBackup**,\n",
    "- the ratio of Month-to-month contract mode is high\n",
    "- the ratio of payment by Electronic check is high\n",
    "- the ratio of **churn rate** is high"
   ]
  },
  {
   "cell_type": "markdown",
   "id": "9f6bcbfe",
   "metadata": {},
   "source": [
    "##### 10. DeviceProtection"
   ]
  },
  {
   "cell_type": "code",
   "execution_count": null,
   "id": "a6e02864",
   "metadata": {},
   "outputs": [],
   "source": [
    "catvscat('DeviceProtection')"
   ]
  },
  {
   "cell_type": "markdown",
   "id": "8379fa0e",
   "metadata": {},
   "source": [
    "For customers who are subscribed for **DeviceProtection**,\n",
    "- the ratio of martial status as married is high\n",
    "- the ratio of living with dependents is high\n",
    "- the ratio of subscription to multiple telephone lines is high\n",
    "- the ratio of subscription to all the premium services are high\n",
    "- the ratio of two year contract mode is high\n",
    "- the ratio of automatic payment is high\n",
    "\n",
    "For customers who are **not** subscribed for **DeviceProtection**,\n",
    "- the ratio of Month-to-month contract mode is high\n",
    "- the ratio of payment by Electronic check is high\n",
    "- the ratio of **churn rate** is high"
   ]
  },
  {
   "cell_type": "markdown",
   "id": "ce16b69c",
   "metadata": {},
   "source": [
    "##### 11. TechSupport"
   ]
  },
  {
   "cell_type": "code",
   "execution_count": null,
   "id": "d7e320ef",
   "metadata": {},
   "outputs": [],
   "source": [
    "catvscat('TechSupport')"
   ]
  },
  {
   "cell_type": "markdown",
   "id": "94015879",
   "metadata": {},
   "source": [
    "For customers who are subscribed for **Premium TechSupport**,\n",
    "- the ratio of martial status as married is high\n",
    "- the ratio of living with dependents is high\n",
    "- the ratio of subscription to all the premium services are high\n",
    "- the ratio of two year contract mode is high\n",
    "- the ratio of automatic payment is high\n",
    "\n",
    "For customers who are **not** subscribed for **Premium TechSupport**,\n",
    "- the ratio of senior citizens is high\n",
    "- the ratio of subscription internet service with Fiber-optic is high\n",
    "- the ratio of Month-to-month contract mode is high\n",
    "- the ratio of subscription to paperless billing is high\n",
    "- the ratio of payment by Electronic check is high\n",
    "- the ratio of **churn rate** is high"
   ]
  },
  {
   "cell_type": "markdown",
   "id": "7a8b4933",
   "metadata": {},
   "source": [
    "##### 12. StreamingTV"
   ]
  },
  {
   "cell_type": "code",
   "execution_count": null,
   "id": "351b460c",
   "metadata": {},
   "outputs": [],
   "source": [
    "catvscat('StreamingTV')"
   ]
  },
  {
   "cell_type": "markdown",
   "id": "974076f8",
   "metadata": {},
   "source": [
    "For customers who are subscribed for **StreamingTV**,\n",
    "- the ratio of martial status as married is high\n",
    "- the ratio of subscription to multiple telephone lines is high\n",
    "- the ratio of subscription internet service with Fiber-optic is high\n",
    "- the ratio of subscription to all the premium services are high\n",
    "- the ratio of two year contract mode is high\n",
    "- the ratio of subscription to paperless billing is high\n",
    "- the ratio of automatic payment is high\n",
    "\n",
    "For customers who are **not** subscribed for **StreamingTV**,\n",
    "- the ratio of Month-to-month contract mode is high\n",
    "- the ratio of **churn rate** is high"
   ]
  },
  {
   "cell_type": "markdown",
   "id": "6966c215",
   "metadata": {},
   "source": [
    "##### 13. StreamingMovies"
   ]
  },
  {
   "cell_type": "code",
   "execution_count": null,
   "id": "305925ac",
   "metadata": {},
   "outputs": [],
   "source": [
    "catvscat('StreamingMovies')"
   ]
  },
  {
   "cell_type": "markdown",
   "id": "09dbecdb",
   "metadata": {},
   "source": [
    "For customers who are subscribed for **StreamingMovies**,\n",
    "- the ratio of senior citizens is high\n",
    "- the ratio of martial status as married is high\n",
    "- the ratio of subscription to multiple telephone lines is high\n",
    "- the ratio of subscription internet service with Fiber-optic is high\n",
    "- the ratio of subscription to all the premium services are high\n",
    "- the ratio of two year contract mode is high\n",
    "- the ratio of subscription to paperless billing is high\n",
    "- the ratio of automatic payment is high\n",
    "\n",
    "For customers who are **not** subscribed for **StreamingMovies**,\n",
    "- the ratio of Month-to-month contract mode is high\n",
    "- the ratio of **churn rate** is high"
   ]
  },
  {
   "cell_type": "markdown",
   "id": "e8507f1c",
   "metadata": {},
   "source": [
    "##### 14. Contract"
   ]
  },
  {
   "cell_type": "code",
   "execution_count": null,
   "id": "6c013231",
   "metadata": {},
   "outputs": [],
   "source": [
    "catvscat('Contract')"
   ]
  },
  {
   "cell_type": "markdown",
   "id": "e96dfa05",
   "metadata": {},
   "source": [
    "1) Two year > One year > Month-to-month\n",
    "- the ratio of **senior citizens** customers\n",
    "- the ratio of subscription to **multiple telephone** lines\n",
    "- the ratio of subscription to the premium services such as Device Protection and premium TechSupport\n",
    "- the ratio of using **automatic payment** method\n",
    "\n",
    "2) Two year = One year > Month-to-month \n",
    "- the ratio of subscription to the premium services such as Online Backup, StreamingTV and StreamingMovies\n",
    "\n",
    "3) Month-to-month > One year > Two year\n",
    "- the ratio of customers living with **dependents**\n",
    "- the ratio of **married** customers\n",
    "- the ratio of internet service using **Fiber optic**\n",
    "- the ratio of subscription to **paperless billing**\n",
    "- the ratio of payment by **electronic check**\n",
    "- the ratio of **churn rate** is high"
   ]
  },
  {
   "cell_type": "markdown",
   "id": "486992f0",
   "metadata": {},
   "source": [
    "##### 15. PaperlessBilling"
   ]
  },
  {
   "cell_type": "code",
   "execution_count": null,
   "id": "db56f6cb",
   "metadata": {},
   "outputs": [],
   "source": [
    "catvscat('PaperlessBilling')"
   ]
  },
  {
   "cell_type": "markdown",
   "id": "e21b8ac0",
   "metadata": {},
   "source": [
    "For customers who are subscribed for **PaperlessBilling**,\n",
    "- the ratio of senior citizens is high\n",
    "- the ratio of subscription to multiple telephone lines is high\n",
    "- the ratio of subscription internet service with Fiber-optic is high\n",
    "- the ratio of subscription to all the premium services except OnlineSecurity are high\n",
    "- the ratio of Month-to-month contract mode is high\n",
    "- the ratio of payment by electronic check is high\n",
    "- the ratio of **churn rate** is high\n",
    "\n",
    "For customers who are **not** subscribed for **PaperlessBilling**,\n",
    "- the ratio of customers with dependents is high\n",
    "- the ratio of non subscription to internet service is high\n",
    "- the ratio of two year contract mode is high\n",
    "- the ratio of payment by mail check is high"
   ]
  },
  {
   "cell_type": "markdown",
   "id": "50b4f207",
   "metadata": {},
   "source": [
    "##### 16. PaymentMethod"
   ]
  },
  {
   "cell_type": "code",
   "execution_count": null,
   "id": "9ad6fe80",
   "metadata": {},
   "outputs": [],
   "source": [
    "catvscat('PaymentMethod')"
   ]
  },
  {
   "cell_type": "markdown",
   "id": "64eaefc3",
   "metadata": {},
   "source": [
    "1) Electronic > Automatic > Mail\n",
    "- the ratio of **married** customers\n",
    "- the ratio of internet service using **Fiber optic**\n",
    "- the ratio of subscription to the premium services such as StreamingTV and StreamingMovies\n",
    "- the ratio of subscription to **paperless billing**\n",
    "\n",
    "2) Electronic > Mail > Automatic\n",
    "- the ratio of **Month-to-month** contract mode\n",
    "\n",
    "3) Automatic > Electronic > Mail\n",
    "- the ratio of **senior citizen** customers\n",
    "- the ratio of subscription to the premium services such as OnlineBackup and DeviceProtection\n",
    "\n",
    "4) Automatic > Mail > Electronic\n",
    "- the ratio of **Two year** contract mode\n",
    "\n",
    "5) Automatic > Manual\n",
    "- the ratio of subscription to the premium services such as OnlineSecurity and premium TechSupport\n",
    "\n",
    "Other inferences\n",
    "- the ratio of customers living with **dependents** is low for those who pay with **Electronic check**\n",
    "- the ratio of **churn rate** is high for customers who pay with **Electronic check**\n",
    "- the ratio of subscription to **multiple telephone** lines is low for those who pay with **Mailed check**"
   ]
  },
  {
   "cell_type": "markdown",
   "id": "e72a52ba",
   "metadata": {},
   "source": [
    "### E) Against Target Variable"
   ]
  },
  {
   "cell_type": "markdown",
   "id": "1c612904",
   "metadata": {},
   "source": [
    "##### 1) Numerical Variables"
   ]
  },
  {
   "cell_type": "code",
   "execution_count": null,
   "id": "ee36650b",
   "metadata": {},
   "outputs": [],
   "source": [
    "catvsnum('Churn')"
   ]
  },
  {
   "cell_type": "markdown",
   "id": "748fb0b9",
   "metadata": {},
   "source": [
    "For customers who churn\n",
    "- Average tenure and average total charges is low\n",
    "- But, Average monthly charges is high"
   ]
  },
  {
   "cell_type": "markdown",
   "id": "196dbc73",
   "metadata": {},
   "source": [
    "##### 2) Categorical Variables"
   ]
  },
  {
   "cell_type": "code",
   "execution_count": null,
   "id": "eb9ff012",
   "metadata": {},
   "outputs": [],
   "source": [
    "catvscat('Churn')"
   ]
  },
  {
   "cell_type": "markdown",
   "id": "279cb226",
   "metadata": {},
   "source": [
    "For customers who **left (churn)** company this quarter,\n",
    "- the ratio of senior citizens is high\n",
    "- the ratio of subscription internet service with Fiber-optic is high\n",
    "- the ratio of subscription to the premium non streaming services are **low**\n",
    "- the ratio of Month-to-month contract mode is high\n",
    "- the ratio of subscription to paperless billing is high\n",
    "- the ratio of payment by Electronic check is high\n",
    "\n",
    "For customers who have **not left** company this quarter,\n",
    "- the ratio of martial status as married is high\n",
    "- the ratio of customers with dependents\n",
    "- the ratio of two year contract mode is high\n",
    "- the ratio of automatic payment and mailed check is high"
   ]
  },
  {
   "cell_type": "markdown",
   "id": "faf09176",
   "metadata": {},
   "source": [
    "### 3) Multivariate analysis"
   ]
  },
  {
   "cell_type": "markdown",
   "id": "3ec994af",
   "metadata": {},
   "source": [
    "#### A) Between numerical vs target"
   ]
  },
  {
   "cell_type": "code",
   "execution_count": null,
   "id": "0578fc6e",
   "metadata": {},
   "outputs": [],
   "source": [
    "sns.pairplot(df,hue='Churn')"
   ]
  },
  {
   "cell_type": "markdown",
   "id": "03f71388",
   "metadata": {},
   "source": [
    "#### B) Num vs Cat vs Target"
   ]
  },
  {
   "cell_type": "code",
   "execution_count": null,
   "id": "6409272b",
   "metadata": {},
   "outputs": [],
   "source": [
    "imp_cols_cat = ['SeniorCitizen','InternetService','OnlineSecurity','OnlineBackup','DeviceProtection','TechSupport',\n",
    "                'Contract', 'PaperlessBilling', 'PaymentMethod']"
   ]
  },
  {
   "cell_type": "code",
   "execution_count": 5,
   "id": "5c558196",
   "metadata": {},
   "outputs": [],
   "source": [
    "def catvsnum_hued(x_col,y_col,hue_col):\n",
    "    plt.figure(figsize=(6,4))\n",
    "    sns.boxplot(y=df[y_col],x=df[x_col],hue=df[hue_col])\n",
    "    plt.legend(bbox_to_anchor=(1,1))\n",
    "\n",
    "    #plt.savefig('Outliers_box_plot.jpg')\n",
    "    plt.show()"
   ]
  },
  {
   "cell_type": "markdown",
   "id": "ff8d50b6",
   "metadata": {},
   "source": [
    "#### 1) tenure"
   ]
  },
  {
   "cell_type": "code",
   "execution_count": null,
   "id": "66196b43",
   "metadata": {},
   "outputs": [],
   "source": [
    "for y_col in obj_cols:\n",
    "    catvsnum_hued('tenure',y_col,'Churn')"
   ]
  },
  {
   "cell_type": "markdown",
   "id": "f01edad4",
   "metadata": {},
   "source": [
    "For customers who churn\n",
    "- Median tenure is **high** only for those who are following one year / two year based contract\n",
    "- Median tenure is **less** for all the remaining cases"
   ]
  },
  {
   "cell_type": "markdown",
   "id": "ba51e5be",
   "metadata": {},
   "source": [
    "#### 2) MonthlyCharges"
   ]
  },
  {
   "cell_type": "code",
   "execution_count": null,
   "id": "fa0a3af2",
   "metadata": {},
   "outputs": [],
   "source": [
    "for y_col in obj_cols:\n",
    "    catvsnum_hued('MonthlyCharges',y_col,'Churn')"
   ]
  },
  {
   "cell_type": "markdown",
   "id": "c255b3b6",
   "metadata": {},
   "source": [
    "For customers who churn Median monthly charges,\n",
    "- 1) is low for those \n",
    "  - who are not subscribed to PhoneService \n",
    "  - who are subscribed to InternetService\n",
    "- 2) is high for remaining all scenerios"
   ]
  },
  {
   "cell_type": "markdown",
   "id": "b52d0ca6",
   "metadata": {},
   "source": [
    "#### 3) TotalCharges"
   ]
  },
  {
   "cell_type": "code",
   "execution_count": null,
   "id": "32bee0db",
   "metadata": {},
   "outputs": [],
   "source": [
    "for y_col in obj_cols:\n",
    "    catvsnum_hued('TotalCharges',y_col,'Churn')"
   ]
  },
  {
   "cell_type": "markdown",
   "id": "ebc1d415",
   "metadata": {},
   "source": [
    "For customers who churn Median Total charges,\n",
    "- 1) is high for those who were following one year or two year contract\n",
    "- 2) is high for remaining all scenerios"
   ]
  },
  {
   "cell_type": "markdown",
   "id": "de96b761",
   "metadata": {},
   "source": [
    "#### C)  Cat vs Num vs Target"
   ]
  },
  {
   "cell_type": "markdown",
   "id": "09c7fa9d",
   "metadata": {},
   "source": [
    "##### 1. gender"
   ]
  },
  {
   "cell_type": "code",
   "execution_count": null,
   "id": "46fca447",
   "metadata": {},
   "outputs": [],
   "source": [
    "for x_col in num_cols:\n",
    "    catvsnum_hued(x_col,'gender','Churn')"
   ]
  },
  {
   "cell_type": "markdown",
   "id": "c35ed7d9",
   "metadata": {},
   "source": [
    "##### 2. SeniorCitizen"
   ]
  },
  {
   "cell_type": "code",
   "execution_count": null,
   "id": "f4ede4f3",
   "metadata": {},
   "outputs": [],
   "source": [
    "for x_col in num_cols:\n",
    "    catvsnum_hued(x_col,'SeniorCitizen','Churn')"
   ]
  },
  {
   "cell_type": "markdown",
   "id": "bd6a8a0b",
   "metadata": {},
   "source": [
    "##### 3. Partner"
   ]
  },
  {
   "cell_type": "code",
   "execution_count": null,
   "id": "55fd3e48",
   "metadata": {},
   "outputs": [],
   "source": [
    "for x_col in num_cols:\n",
    "    catvsnum_hued(x_col,'Partner','Churn')"
   ]
  },
  {
   "cell_type": "markdown",
   "id": "af8def38",
   "metadata": {},
   "source": [
    "##### 4. Dependents"
   ]
  },
  {
   "cell_type": "code",
   "execution_count": null,
   "id": "094e43c4",
   "metadata": {},
   "outputs": [],
   "source": [
    "for x_col in num_cols:\n",
    "    catvsnum_hued(x_col,'Dependents','Churn')"
   ]
  },
  {
   "cell_type": "markdown",
   "id": "a933c90b",
   "metadata": {},
   "source": [
    "##### 5. PhoneService"
   ]
  },
  {
   "cell_type": "code",
   "execution_count": null,
   "id": "9115640e",
   "metadata": {},
   "outputs": [],
   "source": [
    "for x_col in num_cols:\n",
    "    catvsnum_hued(x_col,'PhoneService','Churn')"
   ]
  },
  {
   "cell_type": "markdown",
   "id": "151b9b94",
   "metadata": {},
   "source": [
    "##### 6. MultipleLines"
   ]
  },
  {
   "cell_type": "code",
   "execution_count": null,
   "id": "adb0bfc8",
   "metadata": {},
   "outputs": [],
   "source": [
    "for x_col in num_cols:\n",
    "    catvsnum_hued(x_col,'MultipleLines','Churn')"
   ]
  },
  {
   "cell_type": "markdown",
   "id": "9456ca5d",
   "metadata": {},
   "source": [
    "For the customers who churned\n",
    "- Median **MonthlyCharges** is high for those who are subscribed to the **PhoneService** irrespective of whether they are **multiple telephone lines**"
   ]
  },
  {
   "cell_type": "markdown",
   "id": "86f004d0",
   "metadata": {},
   "source": [
    "##### 7. InternetService"
   ]
  },
  {
   "cell_type": "code",
   "execution_count": null,
   "id": "8d3f719b",
   "metadata": {},
   "outputs": [],
   "source": [
    "for x_col in num_cols:\n",
    "    catvsnum_hued(x_col,'InternetService','Churn')"
   ]
  },
  {
   "cell_type": "markdown",
   "id": "2a853074",
   "metadata": {},
   "source": [
    "##### 8. OnlineSecurity"
   ]
  },
  {
   "cell_type": "code",
   "execution_count": null,
   "id": "15ea4fe6",
   "metadata": {},
   "outputs": [],
   "source": [
    "for x_col in num_cols:\n",
    "    catvsnum_hued(x_col,'OnlineSecurity','Churn')"
   ]
  },
  {
   "cell_type": "markdown",
   "id": "d755c1eb",
   "metadata": {},
   "source": [
    "For the customers who churned\n",
    "- Median **MonthlyCharges** is high for those who are subscribed to the **InternetService** irrespective of subscription to **OnlineSecurity**"
   ]
  },
  {
   "cell_type": "markdown",
   "id": "29020e30",
   "metadata": {},
   "source": [
    "##### 9. OnlineBackup"
   ]
  },
  {
   "cell_type": "code",
   "execution_count": null,
   "id": "9277ba0f",
   "metadata": {},
   "outputs": [],
   "source": [
    "for x_col in num_cols:\n",
    "    catvsnum_hued(x_col,'OnlineBackup','Churn')"
   ]
  },
  {
   "cell_type": "markdown",
   "id": "6fa780e0",
   "metadata": {},
   "source": [
    "##### 10. DeviceProtection"
   ]
  },
  {
   "cell_type": "code",
   "execution_count": null,
   "id": "9685754a",
   "metadata": {},
   "outputs": [],
   "source": [
    "- Median **MonthlyCharges** is high for those who are subscribed to the **PhoneService** and then **churned**for x_col in num_cols:\n",
    "    catvsnum_hued(x_col,'DeviceProtection','Churn')"
   ]
  },
  {
   "cell_type": "markdown",
   "id": "b6e57ccd",
   "metadata": {},
   "source": [
    "##### 11. TechSupport"
   ]
  },
  {
   "cell_type": "code",
   "execution_count": null,
   "id": "c7ff1492",
   "metadata": {},
   "outputs": [],
   "source": [
    "for x_col in num_cols:\n",
    "    catvsnum_hued(x_col,'TechSupport','Churn')"
   ]
  },
  {
   "cell_type": "markdown",
   "id": "05374feb",
   "metadata": {},
   "source": [
    "##### 12. StreamingTV"
   ]
  },
  {
   "cell_type": "code",
   "execution_count": null,
   "id": "187be44b",
   "metadata": {},
   "outputs": [],
   "source": [
    "for x_col in num_cols:\n",
    "    catvsnum_hued(x_col,'StreamingTV','Churn')"
   ]
  },
  {
   "cell_type": "markdown",
   "id": "fe362499",
   "metadata": {},
   "source": [
    "##### 13. StreamingMovies"
   ]
  },
  {
   "cell_type": "code",
   "execution_count": null,
   "id": "d84952c9",
   "metadata": {},
   "outputs": [],
   "source": [
    "for x_col in num_cols:\n",
    "    catvsnum_hued(x_col,'StreamingMovies','Churn')"
   ]
  },
  {
   "cell_type": "markdown",
   "id": "2d95efc9",
   "metadata": {},
   "source": [
    "For the customers who churned\n",
    "- Median **MonthlyCharges** is high for those who are subscribed to the **InternetService** irrespective of whether they have subscribed for any of the **Premium service** "
   ]
  },
  {
   "cell_type": "markdown",
   "id": "8e9ef625",
   "metadata": {},
   "source": [
    "##### 14. Contract"
   ]
  },
  {
   "cell_type": "code",
   "execution_count": 25,
   "id": "b3e2d00d",
   "metadata": {
    "scrolled": true
   },
   "outputs": [
    {
     "data": {
      "image/png": "[encoded data removed]",
      "text/plain": [
       "<Figure size 432x288 with 1 Axes>"
      ]
     },
     "metadata": {
      "needs_background": "light"
     },
     "output_type": "display_data"
    },
    {
     "data": {
      "image/png": "[encoded data removed]",
      "text/plain": [
       "<Figure size 432x288 with 1 Axes>"
      ]
     },
     "metadata": {
      "needs_background": "light"
     },
     "output_type": "display_data"
    },
    {
     "data": {
      "image/png": "[encoded data removed]",
      "text/plain": [
       "<Figure size 432x288 with 1 Axes>"
      ]
     },
     "metadata": {
      "needs_background": "light"
     },
     "output_type": "display_data"
    }
   ],
   "source": [
    "for x_col in num_cols:\n",
    "    catvsnum_hued(x_col,'Contract','Churn')"
   ]
  },
  {
   "cell_type": "markdown",
   "id": "d9e0991a",
   "metadata": {},
   "source": [
    "For the customers who churned\n",
    "- median tenure is **high** for those who had **one year** and **two year** contract\n",
    "- median total charges is **less** for those who had **Month-to-month** contract "
   ]
  },
  {
   "cell_type": "markdown",
   "id": "46c5fdc6",
   "metadata": {},
   "source": [
    "##### 15. PaperlessBilling"
   ]
  },
  {
   "cell_type": "code",
   "execution_count": null,
   "id": "a65785d1",
   "metadata": {},
   "outputs": [],
   "source": [
    "for x_col in num_cols:\n",
    "    catvsnum_hued(x_col,'PaperlessBilling','Churn')"
   ]
  },
  {
   "cell_type": "markdown",
   "id": "5021921a",
   "metadata": {},
   "source": [
    "##### 16. PaymentMethod"
   ]
  },
  {
   "cell_type": "code",
   "execution_count": null,
   "id": "25d9eb8c",
   "metadata": {},
   "outputs": [],
   "source": [
    "for x_col in num_cols:\n",
    "    catvsnum_hued(x_col,'PaymentMethod','Churn')"
   ]
  },
  {
   "cell_type": "markdown",
   "id": "6cde26fa",
   "metadata": {},
   "source": [
    "#### D) Between Categorical vs Target"
   ]
  },
  {
   "cell_type": "code",
   "execution_count": 33,
   "id": "9d465d70",
   "metadata": {},
   "outputs": [],
   "source": [
    "def catvscat_hued_act(cat_col_1, cat_col_2, target): \n",
    "    a, b = cat_col_1, cat_col_2\n",
    "    ab = a+'_'+b\n",
    "    col_name = target+'_perc'\n",
    "    \n",
    "    df_groupby = df.groupby([a,b])[target].value_counts().mul(100).rename(col_name).reset_index()\n",
    "    df_groupby.insert(0,ab,df_groupby[a] + '_' + df_groupby[b])\n",
    "    df_groupby.drop(columns=[a,b],inplace=True)\n",
    "    cross_tab_prop = pd.crosstab(index=df_groupby[ab],columns=df_groupby[target],values=df_groupby[col_name],aggfunc=np.sum,normalize='index')\n",
    "    \n",
    "    cross_tab_prop.plot(kind='barh',stacked=True)\n",
    "    plt.legend(loc=\"center\",ncol=1,fontsize='x-small',bbox_to_anchor=(1.15, 0.8))\n",
    "    plt.xlabel(f'Ratio of {col_name}')\n",
    "    #plt.savefig('Outliers_box_plot.jpg')\n",
    "    plt.show()\n",
    "\n",
    "def catvscat_hued(imp_cols_cat,focus_col,target_col):\n",
    "    temp_obj_cols = imp_cols_cat.copy()\n",
    "    temp_obj_cols.remove(focus_col)\n",
    "    temp_obj_cols.remove(target_col)\n",
    "    for col in temp_obj_cols:\n",
    "        catvscat_hued_act(col,focus_col,target_col)"
   ]
  },
  {
   "cell_type": "markdown",
   "id": "d488ddc7",
   "metadata": {},
   "source": [
    "##### 1. gender"
   ]
  },
  {
   "cell_type": "code",
   "execution_count": null,
   "id": "19cb9188",
   "metadata": {},
   "outputs": [],
   "source": [
    "catvscat_hued(obj_cols,'gender','Churn')"
   ]
  },
  {
   "cell_type": "markdown",
   "id": "4a1e8001",
   "metadata": {},
   "source": [
    "Irrespective of gender, Churn percentage is high for those who\n",
    "- seniorcitizens \n",
    "- are **not married**\n",
    "- do not have dependents\n",
    "- subscribed to Fiber optic\n",
    "- **not subscribed** to any non-streaming premium service\n",
    "- had Month-to-month contract\n",
    "- opted Paperless Billing\n",
    "- paid through Electronic check"
   ]
  },
  {
   "cell_type": "markdown",
   "id": "603996b7",
   "metadata": {},
   "source": [
    "##### 2. SeniorCitizen"
   ]
  },
  {
   "cell_type": "code",
   "execution_count": null,
   "id": "621b88a1",
   "metadata": {},
   "outputs": [],
   "source": [
    "catvscat_hued(obj_cols,'SeniorCitizen','Churn')"
   ]
  },
  {
   "cell_type": "markdown",
   "id": "86263aa5",
   "metadata": {},
   "source": [
    "Irrespective of whether customer is seniorcitizen or not, churn rate is high for those who\n",
    "- are subscribed to Fiber optic InternetService\n",
    "- are not subscribed to any other non-streaming premium services\n",
    "- had Month-to-month contract\n",
    "- paid through Electronic check\n",
    "\n",
    "Churn percentage is high for seniorcitizens\n",
    "- 1) irrespective of \n",
    "    - gender \n",
    "    - subscription to PhoneService or Multiple telephone lines\n",
    "    - subscription to streaming premium services\n",
    "- 2) Who\n",
    "    - are not married\n",
    "    - do not have dependents    \n",
    "    - opted Paperless Billing\n",
    "    - paid through Mailed check"
   ]
  },
  {
   "cell_type": "markdown",
   "id": "860a713a",
   "metadata": {},
   "source": [
    "##### 3. Partner"
   ]
  },
  {
   "cell_type": "code",
   "execution_count": null,
   "id": "0cd6739d",
   "metadata": {},
   "outputs": [],
   "source": [
    "catvscat_hued(obj_cols,'Partner','Churn')"
   ]
  },
  {
   "cell_type": "markdown",
   "id": "9b94d1dd",
   "metadata": {},
   "source": [
    "Irrespective of whether customer is married or not, churn rate is high for those who\n",
    "- are subscribed to Fiber optic InternetService\n",
    "- are not subscribed to any other non-streaming premium services\n",
    "- had Month-to-month contract\n",
    "- paid through Electronic check\n",
    "\n",
    "Churn percentage is high for unmarried customers\n",
    "- 1) irrespective of \n",
    "    - gender \n",
    "    - subscription to PhoneService or multiple telephone lines\n",
    "    - subscription to any other streaming premium services\n",
    "- 2) Who\n",
    "    - are seniorcitizens\n",
    "    - do not have dependents\n",
    "    - opted Paperless Billing"
   ]
  },
  {
   "cell_type": "markdown",
   "id": "339e5b02",
   "metadata": {},
   "source": [
    "##### 4. Dependents"
   ]
  },
  {
   "cell_type": "code",
   "execution_count": null,
   "id": "dd380743",
   "metadata": {},
   "outputs": [],
   "source": [
    "catvscat_hued(obj_cols,'Dependents','Churn')"
   ]
  },
  {
   "cell_type": "markdown",
   "id": "0b468233",
   "metadata": {},
   "source": [
    "Irrespective of whether customer is living with dependents or not, churn rate is high for those who\n",
    "- are subscribed to Fiber optic InternetService\n",
    "- are not subscribed to any other non-streaming premium services\n",
    "- had Month-to-month contract\n",
    "- paid through Electronic check\n",
    "\n",
    "Churn percentage is high for customers without dependents\n",
    "- 1) irrespective of \n",
    "    - gender \n",
    "    - subscription to Phone Serive or multiple telephone services\n",
    "- 2) Who\n",
    "    - are seniorcitizens\n",
    "    - are not married\n",
    "    - opted Paperless Billing\n",
    "    - paid through Electronic check"
   ]
  },
  {
   "cell_type": "markdown",
   "id": "281f4f76",
   "metadata": {},
   "source": [
    "##### 5. PhoneService"
   ]
  },
  {
   "cell_type": "code",
   "execution_count": null,
   "id": "55feb3a5",
   "metadata": {},
   "outputs": [],
   "source": [
    "catvscat_hued(obj_cols,'PhoneService','Churn')"
   ]
  },
  {
   "cell_type": "markdown",
   "id": "b1499a94",
   "metadata": {},
   "source": [
    "Irrespective of whether customer has subscription to PhoneService or not, churn rate is high for those who\n",
    "- are SeniorCitizens\n",
    "- are not married\n",
    "- do not have dependents\n",
    "- are not subscribed to any other non-streaming premium services\n",
    "- had Month-to-month contract\n",
    "- opted Paperless Billing\n",
    "- paid through Electronic check\n",
    "\n",
    "Churn percentage is high for customers without PhoneService\n",
    "- 1) irrespective of \n",
    "    - subscription to any other streaming premium service\n",
    "- 2) Who\n",
    "    - are subscribed to Fiber optic InternetService"
   ]
  },
  {
   "cell_type": "markdown",
   "id": "9cf0ce58",
   "metadata": {},
   "source": [
    "##### 6. MultipleLines"
   ]
  },
  {
   "cell_type": "code",
   "execution_count": null,
   "id": "438134d7",
   "metadata": {},
   "outputs": [],
   "source": [
    "catvscat_hued(obj_cols,'MultipleLines','Churn')"
   ]
  },
  {
   "cell_type": "markdown",
   "id": "8f88b7a9",
   "metadata": {},
   "source": [
    "Irrespective of whether customer have multiple telephone lines or not, churn rate is high for those who\n",
    "- are SeniorCitizens\n",
    "- are not married\n",
    "- do not have dependents\n",
    "- are subscribed to Fiber optic InternetService\n",
    "- are not subscribed to any other non-streaming premium services\n",
    "- had Month-to-month contract\n",
    "- opted Paperless Billing\n",
    "- paid through Electronic check"
   ]
  },
  {
   "cell_type": "markdown",
   "id": "ef555491",
   "metadata": {},
   "source": [
    "##### 7. InternetService"
   ]
  },
  {
   "cell_type": "code",
   "execution_count": 47,
   "id": "bc402746",
   "metadata": {},
   "outputs": [
    {
     "data": {
      "image/png": "[encoded data removed]",
      "text/plain": [
       "<Figure size 432x288 with 1 Axes>"
      ]
     },
     "metadata": {
      "needs_background": "light"
     },
     "output_type": "display_data"
    },
    {
     "data": {
      "image/png": "[encoded data removed]",
      "text/plain": [
       "<Figure size 432x288 with 1 Axes>"
      ]
     },
     "metadata": {
      "needs_background": "light"
     },
     "output_type": "display_data"
    },
    {
     "data": {
      "image/png": "[encoded data removed]",
      "text/plain": [
       "<Figure size 432x288 with 1 Axes>"
      ]
     },
     "metadata": {
      "needs_background": "light"
     },
     "output_type": "display_data"
    },
    {
     "data": {
      "image/png": "[encoded data removed]",
      "text/plain": [
       "<Figure size 432x288 with 1 Axes>"
      ]
     },
     "metadata": {
      "needs_background": "light"
     },
     "output_type": "display_data"
    },
    {
     "data": {
      "image/png": "[encoded data removed]",
      "text/plain": [
       "<Figure size 432x288 with 1 Axes>"
      ]
     },
     "metadata": {
      "needs_background": "light"
     },
     "output_type": "display_data"
    },
    {
     "data": {
      "image/png": "[encoded data removed]",
      "text/plain": [
       "<Figure size 432x288 with 1 Axes>"
      ]
     },
     "metadata": {
      "needs_background": "light"
     },
     "output_type": "display_data"
    },
    {
     "data": {
      "image/png": "[encoded data removed]",
      "text/plain": [
       "<Figure size 432x288 with 1 Axes>"
      ]
     },
     "metadata": {
      "needs_background": "light"
     },
     "output_type": "display_data"
    },
    {
     "data": {
      "image/png": "[encoded data removed]",
      "text/plain": [
       "<Figure size 432x288 with 1 Axes>"
      ]
     },
     "metadata": {
      "needs_background": "light"
     },
     "output_type": "display_data"
    },
    {
     "data": {
      "image/png": "[encoded data removed]",
      "text/plain": [
       "<Figure size 432x288 with 1 Axes>"
      ]
     },
     "metadata": {
      "needs_background": "light"
     },
     "output_type": "display_data"
    },
    {
     "data": {
      "image/png": "[encoded data removed]",
      "text/plain": [
       "<Figure size 432x288 with 1 Axes>"
      ]
     },
     "metadata": {
      "needs_background": "light"
     },
     "output_type": "display_data"
    },
    {
     "data": {
      "image/png": "[encoded data removed]",
      "text/plain": [
       "<Figure size 432x288 with 1 Axes>"
      ]
     },
     "metadata": {
      "needs_background": "light"
     },
     "output_type": "display_data"
    },
    {
     "data": {
      "image/png": "[encoded data removed]",
      "text/plain": [
       "<Figure size 432x288 with 1 Axes>"
      ]
     },
     "metadata": {
      "needs_background": "light"
     },
     "output_type": "display_data"
    },
    {
     "data": {
      "image/png": "[encoded data removed]",
      "text/plain": [
       "<Figure size 432x288 with 1 Axes>"
      ]
     },
     "metadata": {
      "needs_background": "light"
     },
     "output_type": "display_data"
    },
    {
     "data": {
      "image/png": "[encoded data removed]",
      "text/plain": [
       "<Figure size 432x288 with 1 Axes>"
      ]
     },
     "metadata": {
      "needs_background": "light"
     },
     "output_type": "display_data"
    },
    {
     "data": {
      "image/png": "[encoded data removed]",
      "text/plain": [
       "<Figure size 432x288 with 1 Axes>"
      ]
     },
     "metadata": {
      "needs_background": "light"
     },
     "output_type": "display_data"
    }
   ],
   "source": [
    "catvscat_hued(obj_cols,'InternetService','Churn')"
   ]
  },
  {
   "cell_type": "markdown",
   "id": "94fe24e9",
   "metadata": {},
   "source": [
    "Irrespective of whether customer has subscription to Fiber optic or DSL InternetService, churn rate is high for those who\n",
    "- had Month-to-month contract\n",
    "\n",
    "Churn percentage is high for customers who have Fiber Optic Internet Service\n",
    "- 1) irrespective of \n",
    "    - gender\n",
    "    - SeniorCitizenship\n",
    "    - Multiple telephone lines or not\n",
    "    - subscription to any other streaming premium service\n",
    "    - opted Paperless Billing or not\n",
    "    - made manual payment\n",
    "- 2) Who\n",
    "    - are not married\n",
    "    - do not have dependents\n",
    "    - are subscribed to PhoneService\n",
    "    - are not subscribed to any other non-streaming premium services\n",
    "    - opted Paperless Billing"
   ]
  },
  {
   "cell_type": "markdown",
   "id": "d8b24b48",
   "metadata": {},
   "source": [
    "##### 8. OnlineSecurity"
   ]
  },
  {
   "cell_type": "code",
   "execution_count": null,
   "id": "3de112fb",
   "metadata": {},
   "outputs": [],
   "source": [
    "catvscat_hued(obj_cols,'OnlineSecurity','Churn')"
   ]
  },
  {
   "cell_type": "markdown",
   "id": "b9a01ea9",
   "metadata": {},
   "source": [
    "Churn percentage is high for customers are not subscribed to OnlineSecurity service\n",
    "- 1) irrespective of \n",
    "    - gender \n",
    "    - SeniorCitizenship\n",
    "    - martial status\n",
    "    - Dependents status\n",
    "    - subscription to Phone Serive or multiple telephone services\n",
    "    - subscription to any other streaming premium services\n",
    "    - had Month-to-month contract\n",
    "- 2) Who\n",
    "    - are subscribed to Fiber optic InternetService\n",
    "    - are not subscribed to any other non-streaming premium services\n",
    "    - had Month-to-month contract\n",
    "    - opted Paperless Billing\n",
    "    - made manual payment"
   ]
  },
  {
   "cell_type": "markdown",
   "id": "6f2a8672",
   "metadata": {},
   "source": [
    "##### 9. OnlineBackup"
   ]
  },
  {
   "cell_type": "code",
   "execution_count": null,
   "id": "eaee4e34",
   "metadata": {},
   "outputs": [],
   "source": [
    "catvscat_hued(obj_cols,'OnlineBackup','Churn')"
   ]
  },
  {
   "cell_type": "markdown",
   "id": "cce1cbe3",
   "metadata": {},
   "source": [
    "Irrespective of whether customer is subscribed to OnlineBackup service or not, churn rate is high for those who\n",
    "- had Month-to-month contract\n",
    "\n",
    "Churn percentage is high for customers are not subscribed to OnlineBackup service\n",
    "- 1) irrespective of \n",
    "    - gender \n",
    "    - multiple telephone services or not\n",
    "    - subscription to any other streaming premium services\n",
    "- 2) Who\n",
    "    - are SeniorCitizens\n",
    "    - are not married\n",
    "    - do not have dependents\n",
    "    - but are subscribed to Phone Service\n",
    "    - are subscribed to Fiber optic InternetService\n",
    "    - are not subscribed to any other non-streaming premium services\n",
    "    - opted Paperless Billing\n",
    "    - made payment by Electronic check"
   ]
  },
  {
   "cell_type": "markdown",
   "id": "6fa780e0",
   "metadata": {},
   "source": [
    "##### 10. DeviceProtection"
   ]
  },
  {
   "cell_type": "code",
   "execution_count": null,
   "id": "34f76db3",
   "metadata": {},
   "outputs": [],
   "source": [
    "catvscat_hued(obj_cols,'DeviceProtection','Churn')"
   ]
  },
  {
   "cell_type": "markdown",
   "id": "bf7afc43",
   "metadata": {},
   "source": [
    "Irrespective of whether customer is subscribed to DeviceProtection service or not, churn rate is high for those who\n",
    "- had Month-to-month contract\n",
    "\n",
    "Churn percentage is high for customers are not subscribed to DeviceProtection service\n",
    "- 1) irrespective of \n",
    "    - gender \n",
    "    - subscription to Phone Service\n",
    "    - multiple telephone services or not\n",
    "    - subscription to any other streaming premium services\n",
    "- 2) Who\n",
    "    - are SeniorCitizens\n",
    "    - are not married\n",
    "    - do not have dependents\n",
    "    - are subscribed to Fiber optic InternetService\n",
    "    - are not subscribed to any other non-streaming premium services\n",
    "    - opted Paperless Billing\n",
    "    - made payment by Electronic check"
   ]
  },
  {
   "cell_type": "markdown",
   "id": "b6e57ccd",
   "metadata": {},
   "source": [
    "##### 11. TechSupport"
   ]
  },
  {
   "cell_type": "code",
   "execution_count": null,
   "id": "1a0b81b3",
   "metadata": {},
   "outputs": [],
   "source": [
    "catvscat_hued(obj_cols,'TechSupport','Churn')"
   ]
  },
  {
   "cell_type": "markdown",
   "id": "971178c8",
   "metadata": {},
   "source": [
    "Irrespective of whether customer is subscribed to Premium Tech Support service or not, churn rate is high for those who\n",
    "- had Month-to-month contract\n",
    "\n",
    "Churn percentage is high for customers are not subscribed to Premium Tech Support service\n",
    "- 1) irrespective of \n",
    "    - gender \n",
    "    - SeniorCitizenship\n",
    "    - subscription to Phone Service\n",
    "    - multiple telephone services or not\n",
    "    - subscription to any other streaming premium services\n",
    "    - payment method\n",
    "- 2) Who\n",
    "    - are not married\n",
    "    - do not have dependents\n",
    "    - are subscribed to Fiber optic InternetService\n",
    "    - are not subscribed to any other non-streaming premium services\n",
    "    - opted Paperless Billing\n",
    "    - made payment by Electronic check"
   ]
  },
  {
   "cell_type": "markdown",
   "id": "4cb9f199",
   "metadata": {},
   "source": [
    "##### 12. StreamingTV"
   ]
  },
  {
   "cell_type": "code",
   "execution_count": null,
   "id": "c80f7589",
   "metadata": {},
   "outputs": [],
   "source": [
    "catvscat_hued(obj_cols,'StreamingTV','Churn')"
   ]
  },
  {
   "cell_type": "markdown",
   "id": "1da6f351",
   "metadata": {},
   "source": [
    "Irrespective of whether customer is subscribed to StreamingTV service or not, churn rate is high for those who\n",
    "- are SeniorCitizens\n",
    "- are not married\n",
    "- do not have dependents\n",
    "- are subscribed to Fiber optic InternetService\n",
    "- are not subscribed to any other non-streaming premium services\n",
    "- had Month-to-month contract\n",
    "- opted Paperless Billing\n",
    "- made payment by Electronic check    "
   ]
  },
  {
   "cell_type": "markdown",
   "id": "fe362499",
   "metadata": {},
   "source": [
    "##### 13. StreamingMovies"
   ]
  },
  {
   "cell_type": "code",
   "execution_count": null,
   "id": "3d3b7a7e",
   "metadata": {},
   "outputs": [],
   "source": [
    "catvscat_hued(obj_cols,'StreamingMovies','Churn')"
   ]
  },
  {
   "cell_type": "markdown",
   "id": "814de248",
   "metadata": {},
   "source": [
    "Irrespective of whether customer is subscribed to StreamingTV service or not, churn rate is high for those who\n",
    "- are SeniorCitizens\n",
    "- are not married\n",
    "- do not have dependents\n",
    "- are subscribed to PhoneService\n",
    "- are subscribed to Fiber optic InternetService\n",
    "- are not subscribed to any other non-streaming premium services\n",
    "- had Month-to-month contract\n",
    "- opted Paperless Billing\n",
    "- made payment by Electronic check"
   ]
  },
  {
   "cell_type": "markdown",
   "id": "8e9ef625",
   "metadata": {},
   "source": [
    "##### 14. Contract"
   ]
  },
  {
   "cell_type": "code",
   "execution_count": null,
   "id": "ff791bb2",
   "metadata": {},
   "outputs": [],
   "source": [
    "catvscat_hued(obj_cols,'Contract','Churn')"
   ]
  },
  {
   "cell_type": "markdown",
   "id": "23fe1c30",
   "metadata": {},
   "source": [
    "Irrespective of whether customer is subscribed with Month-to-month contrat, churn rate is high for those who\n",
    "- payment method\n",
    "\n",
    "Churn percentage is high for customers is subscribed with Month-to-month contrat\n",
    "- 1) irrespective of \n",
    "    - gender \n",
    "    - SeniorCitizenship\n",
    "    - martial status\n",
    "    - dependents or not\n",
    "    - subscription to Phone Service\n",
    "    - multiple telephone services or not\n",
    "    - InternetService with Fiber optic or DSL\n",
    "    - subscription to DeviceProtection or not\n",
    "    - subscription to any other streaming premium services\n",
    "- 2) Who\n",
    "    - are subscribed to Fiber optic InternetService\n",
    "    - are not subscribed to any other non-streaming premium services except DeviceProtection\n",
    "    - opted Paperless Billing\n",
    "    - made payment by Electronic check"
   ]
  },
  {
   "cell_type": "markdown",
   "id": "46c5fdc6",
   "metadata": {},
   "source": [
    "##### 15. PaperlessBilling"
   ]
  },
  {
   "cell_type": "code",
   "execution_count": null,
   "id": "d0e5e92c",
   "metadata": {},
   "outputs": [],
   "source": [
    "catvscat_hued(obj_cols,'PaperlessBilling','Churn')"
   ]
  },
  {
   "cell_type": "markdown",
   "id": "d07ee967",
   "metadata": {},
   "source": [
    "Irrespective of whether customer is subscribed for PaperlessBilling, churn rate is high for those who\n",
    "- InternetService with Fiber optic\n",
    "- are not subscribed to any other non-streaming premium services\n",
    "- have Month-to-month contract\n",
    "- made payment by Electronic check\n",
    "\n",
    "Churn percentage is high for customers are subscribed for PaperlessBilling\n",
    "- 1) irrespective of \n",
    "    - gender \n",
    "    - subscription to Phone Service\n",
    "    - multiple telephone services or not\n",
    "    - subscription to any other streaming premium services\n",
    "- 2) Who\n",
    "    - are SeniorCitizens\n",
    "    - are not married\n",
    "    - do not have dependents"
   ]
  },
  {
   "cell_type": "markdown",
   "id": "5021921a",
   "metadata": {},
   "source": [
    "##### 16. PaymentMethod"
   ]
  },
  {
   "cell_type": "code",
   "execution_count": null,
   "id": "46f412ff",
   "metadata": {},
   "outputs": [],
   "source": [
    "catvscat_hued(obj_cols,'PaymentMethod','Churn')"
   ]
  },
  {
   "cell_type": "markdown",
   "id": "f769732b",
   "metadata": {},
   "source": [
    "Irrespective of whether customer made manual payment or not, churn rate is high for those who\n",
    "- have Month-to-month contract\n",
    "\n",
    "Churn percentage is high for customers made payment by Electronic check\n",
    "- 1) irrespective of \n",
    "    - gender \n",
    "    - SeniorCitizenship\n",
    "    - martial status\n",
    "    - subscription to Phone Service\n",
    "    - multiple telephone services or not\n",
    "    - InternetService with Fiber optic\n",
    "    - subscription to any other streaming premium services\n",
    "- 2) Who\n",
    "    - do not have dependents\n",
    "    - are not subscribed to any other non-streaming premium services\n",
    "    - opted Paperless billing"
   ]
  },
  {
   "cell_type": "markdown",
   "id": "ee9c4a3e",
   "metadata": {},
   "source": [
    "## Inferences:\n",
    "\n",
    "From data Visualization techniques, we understood that the following features, individually or combined, distinguish customers who left the company from those who are not (churn / no churn)\n",
    "\n",
    "    1) SeniorCitizen - yes\n",
    "    2) Partners - no\n",
    "    3) Dependents - no\n",
    "    4) InternetService - Fiber optic\n",
    "    5) Subscription to non-streaming premium services (OnlineSecurity, OnlineBackup, DeviceProtection, Premium TechSupport)\n",
    "    6) Contract - Month-to-month\n",
    "    7) Paperless Billing - yes\n",
    "    8) payment by Electronic check\n",
    "------"
   ]
  }
 ],
 "metadata": {
  "kernelspec": {
   "display_name": "Python 3 (ipykernel)",
   "language": "python",
   "name": "python3"
  },
  "language_info": {
   "codemirror_mode": {
    "name": "ipython",
    "version": 3
   },
   "file_extension": ".py",
   "mimetype": "text/x-python",
   "name": "python",
   "nbconvert_exporter": "python",
   "pygments_lexer": "ipython3",
   "version": "3.9.7"
  }
 },
 "nbformat": 4,
 "nbformat_minor": 5
}

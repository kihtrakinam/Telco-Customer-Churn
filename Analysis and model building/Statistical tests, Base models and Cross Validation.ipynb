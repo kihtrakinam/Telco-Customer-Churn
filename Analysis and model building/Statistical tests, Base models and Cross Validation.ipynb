{
 "cells": [
  {
   "cell_type": "markdown",
   "id": "13aefc12",
   "metadata": {},
   "source": [
    "## Modules needed"
   ]
  },
  {
   "cell_type": "code",
   "execution_count": 1,
   "id": "da0f506d",
   "metadata": {},
   "outputs": [],
   "source": [
    "import numpy as np\n",
    "import pandas as pd\n",
    "import seaborn as sns\n",
    "import matplotlib.pyplot as plt\n",
    "\n",
    "from scipy import stats\n",
    "from statsmodels.stats.outliers_influence import variance_inflation_factor\n",
    "import statsmodels.api as sm\n",
    "\n",
    "from imblearn.over_sampling import ADASYN, BorderlineSMOTE, KMeansSMOTE, RandomOverSampler, SMOTE, SMOTEN, SMOTENC, SVMSMOTE\n",
    "from imblearn.under_sampling import RandomUnderSampler, NearMiss\n",
    "from imblearn.pipeline import Pipeline\n",
    "\n",
    "from sklearn.model_selection import train_test_split, KFold, cross_val_score, GridSearchCV\n",
    "from sklearn.linear_model import LogisticRegression\n",
    "from sklearn.naive_bayes import BernoulliNB\n",
    "from sklearn.tree import DecisionTreeClassifier\n",
    "from sklearn.ensemble import RandomForestClassifier\n",
    "\n",
    "from sklearn import metrics\n",
    "from sklearn.metrics import confusion_matrix, classification_report, accuracy_score\n",
    "\n",
    "import pickle\n",
    "import warnings\n",
    "warnings.filterwarnings('ignore')"
   ]
  },
  {
   "cell_type": "markdown",
   "id": "5aa00d6b",
   "metadata": {},
   "source": [
    "## Loading backed up data"
   ]
  },
  {
   "cell_type": "code",
   "execution_count": 2,
   "id": "f470d695",
   "metadata": {},
   "outputs": [],
   "source": [
    "churn_df_details = pickle.load(open('churn_df_details.pkl','rb'))"
   ]
  },
  {
   "cell_type": "code",
   "execution_count": 3,
   "id": "c0b7f842",
   "metadata": {},
   "outputs": [
    {
     "data": {
      "text/plain": [
       "dict_keys(['df', 'obj_cols', 'num_cols', 'significant_features', 'df_dummy', 'df_final', 'y'])"
      ]
     },
     "execution_count": 3,
     "metadata": {},
     "output_type": "execute_result"
    }
   ],
   "source": [
    "churn_df_details.keys()"
   ]
  },
  {
   "cell_type": "code",
   "execution_count": 7,
   "id": "bab7b662",
   "metadata": {},
   "outputs": [
    {
     "data": {
      "text/plain": [
       "array(['Electronic check', 'Mailed check', 'Bank transfer (automatic)',\n",
       "       'Credit card (automatic)'], dtype=object)"
      ]
     },
     "execution_count": 7,
     "metadata": {},
     "output_type": "execute_result"
    }
   ],
   "source": [
    "churn_df_details['df'].PaymentMethod.unique()"
   ]
  },
  {
   "cell_type": "code",
   "execution_count": 14,
   "id": "ebd47792",
   "metadata": {},
   "outputs": [],
   "source": [
    "int_features = ['12','One Year','Electronic check','Single Line','Fiber optic','OS']"
   ]
  },
  {
   "cell_type": "code",
   "execution_count": 23,
   "id": "88a09ea1",
   "metadata": {},
   "outputs": [
    {
     "data": {
      "text/plain": [
       "False"
      ]
     },
     "execution_count": 23,
     "metadata": {},
     "output_type": "execute_result"
    }
   ],
   "source": [
    "np.squeeze([[0]]) == 1"
   ]
  },
  {
   "cell_type": "code",
   "execution_count": 18,
   "id": "f7f04c40",
   "metadata": {},
   "outputs": [
    {
     "data": {
      "text/plain": [
       "[[12, 1, 0, 1, 0, 1, 1, 0, 0, 0, 0, 0, 0, 0, 0]]"
      ]
     },
     "execution_count": 18,
     "metadata": {},
     "output_type": "execute_result"
    }
   ],
   "source": [
    "[[int(int_features[0]), 1 if int_features[1] == 'One Year' else 0, 1 if int_features[1] == 'Two Year' else 0,\n",
    "  1 if 'OS' in int_features else 0, 1 if 'TS' in int_features else 0, 1 if int_features[4] == 'Fiber optic' else 0,\n",
    "  1 if int_features[2] == 'Electronic check' else 0, 1 if 'OB' in int_features else 0, 1 if 'SM' in int_features else 0,\n",
    "  1 if int_features[4] == 'Not subscribed' else 0, 1 if 'ST' in int_features else 0, 1 if 'PB' in int_features else 0,\n",
    "  1 if 'SC' in int_features else 0, 1 if int_features[3] == 'Not subscribed' else 0, \n",
    "  1 if int_features[3] == 'Multiple Lines' else 0]]"
   ]
  },
  {
   "cell_type": "code",
   "execution_count": 13,
   "id": "ba2110b1",
   "metadata": {},
   "outputs": [
    {
     "name": "stdout",
     "output_type": "stream",
     "text": [
      "['tenure', 'Contract_One year', 'Contract_Two year', 'OnlineSecurity_Yes', 'TechSupport_Yes', 'InternetService_Fiber optic', 'PaymentMethod_Electronic check', 'OnlineBackup_Yes', 'StreamingMovies_Yes', 'StreamingTV_No internet service', 'StreamingTV_Yes', 'PaperlessBilling_Yes', 'SeniorCitizen_Yes', 'MultipleLines_No phone service', 'MultipleLines_Yes']\n"
     ]
    }
   ],
   "source": [
    "#print(churn_df_details['df_final'].columns)\n",
    "print(churn_df_details['significant_features'])"
   ]
  },
  {
   "cell_type": "code",
   "execution_count": 5,
   "id": "d41b612d",
   "metadata": {},
   "outputs": [],
   "source": [
    "df = churn_df_details['df']\n",
    "obj_cols = churn_df_details['obj_cols']\n",
    "num_cols = churn_df_details['num_cols']"
   ]
  },
  {
   "cell_type": "code",
   "execution_count": 6,
   "id": "e61df290",
   "metadata": {},
   "outputs": [],
   "source": [
    "obj_cols.remove('Churn')"
   ]
  },
  {
   "cell_type": "code",
   "execution_count": 7,
   "id": "0bf1611b",
   "metadata": {},
   "outputs": [],
   "source": [
    "df_cat = df[obj_cols]\n",
    "df_num = df[num_cols]\n",
    "y = df[['Churn']].replace({'Yes':1,'No':0})"
   ]
  },
  {
   "cell_type": "markdown",
   "id": "c24b11f8",
   "metadata": {},
   "source": [
    "## Multicolinearity - Variance inflation factor"
   ]
  },
  {
   "cell_type": "code",
   "execution_count": 8,
   "id": "a516ed4c",
   "metadata": {},
   "outputs": [
    {
     "data": {
      "image/png": "[encoded data removed]",
      "text/plain": [
       "<Figure size 432x288 with 2 Axes>"
      ]
     },
     "metadata": {
      "needs_background": "light"
     },
     "output_type": "display_data"
    }
   ],
   "source": [
    "corre = df_num.corr()\n",
    "sns.heatmap(corre,annot=True,fmt='.2f',cmap='seismic',vmin=-1,vmax=1,mask=np.triu(corre))\n",
    "plt.show()"
   ]
  },
  {
   "cell_type": "code",
   "execution_count": 9,
   "id": "dba972d1",
   "metadata": {},
   "outputs": [
    {
     "data": {
      "text/html": [
       "<div>\n",
       "<style scoped>\n",
       "    .dataframe tbody tr th:only-of-type {\n",
       "        vertical-align: middle;\n",
       "    }\n",
       "\n",
       "    .dataframe tbody tr th {\n",
       "        vertical-align: top;\n",
       "    }\n",
       "\n",
       "    .dataframe thead th {\n",
       "        text-align: right;\n",
       "    }\n",
       "</style>\n",
       "<table border=\"1\" class=\"dataframe\">\n",
       "  <thead>\n",
       "    <tr style=\"text-align: right;\">\n",
       "      <th></th>\n",
       "      <th>Features</th>\n",
       "      <th>vif</th>\n",
       "    </tr>\n",
       "  </thead>\n",
       "  <tbody>\n",
       "    <tr>\n",
       "      <th>2</th>\n",
       "      <td>TotalCharges</td>\n",
       "      <td>8.079181</td>\n",
       "    </tr>\n",
       "    <tr>\n",
       "      <th>0</th>\n",
       "      <td>tenure</td>\n",
       "      <td>6.332432</td>\n",
       "    </tr>\n",
       "    <tr>\n",
       "      <th>1</th>\n",
       "      <td>MonthlyCharges</td>\n",
       "      <td>3.361075</td>\n",
       "    </tr>\n",
       "  </tbody>\n",
       "</table>\n",
       "</div>"
      ],
      "text/plain": [
       "         Features       vif\n",
       "2    TotalCharges  8.079181\n",
       "0          tenure  6.332432\n",
       "1  MonthlyCharges  3.361075"
      ]
     },
     "execution_count": 9,
     "metadata": {},
     "output_type": "execute_result"
    }
   ],
   "source": [
    "vif = pd.DataFrame({'Features':df_num.columns})\n",
    "vif['vif'] = [variance_inflation_factor(df_num.values,i) for i in range(df_num.shape[1])]\n",
    "cols = vif.sort_values(by='vif',ascending=False).head(2).Features\n",
    "vif.sort_values(by='vif',ascending=False)"
   ]
  },
  {
   "cell_type": "markdown",
   "id": "51e034f1",
   "metadata": {},
   "source": [
    "**Inference**\n",
    "- There is no significant multicollinearity existing between the independent features as the VIF factor < 10"
   ]
  },
  {
   "cell_type": "markdown",
   "id": "f65944c8",
   "metadata": {},
   "source": [
    "## Statistical test for numerical variables:"
   ]
  },
  {
   "cell_type": "markdown",
   "id": "78e7371c",
   "metadata": {},
   "source": [
    "#### Shapiro_test"
   ]
  },
  {
   "cell_type": "code",
   "execution_count": 10,
   "id": "acd6b8b9",
   "metadata": {},
   "outputs": [],
   "source": [
    "#Normality test(Shapiro):\n",
    "\n",
    "#Ho : skew = 0 (Data is normal)\n",
    "#Ha : skew = 0 (Data is not normal)"
   ]
  },
  {
   "cell_type": "code",
   "execution_count": 11,
   "id": "b0e0f486",
   "metadata": {},
   "outputs": [],
   "source": [
    "df_shapiro_num = pd.DataFrame(index=df_num.columns,columns=['W-stat1','pval1','W-stat2','pval2'])\n",
    "for i in df_num.columns:\n",
    "    group_1 = df_num[i][df['Churn'] == 'No']\n",
    "    group_2 = df_num[i][df['Churn'] == 'Yes']\n",
    "    w1,pval1 = stats.shapiro(group_1)\n",
    "    w2,pval2 = stats.shapiro(group_2)\n",
    "    df_shapiro_num.loc[i] = [w1,pval1,w2,pval2]"
   ]
  },
  {
   "cell_type": "code",
   "execution_count": 12,
   "id": "04c25754",
   "metadata": {},
   "outputs": [
    {
     "data": {
      "text/html": [
       "<div>\n",
       "<style scoped>\n",
       "    .dataframe tbody tr th:only-of-type {\n",
       "        vertical-align: middle;\n",
       "    }\n",
       "\n",
       "    .dataframe tbody tr th {\n",
       "        vertical-align: top;\n",
       "    }\n",
       "\n",
       "    .dataframe thead th {\n",
       "        text-align: right;\n",
       "    }\n",
       "</style>\n",
       "<table border=\"1\" class=\"dataframe\">\n",
       "  <thead>\n",
       "    <tr style=\"text-align: right;\">\n",
       "      <th></th>\n",
       "      <th>W-stat1</th>\n",
       "      <th>pval1</th>\n",
       "      <th>W-stat2</th>\n",
       "      <th>pval2</th>\n",
       "    </tr>\n",
       "  </thead>\n",
       "  <tbody>\n",
       "    <tr>\n",
       "      <th>tenure</th>\n",
       "      <td>0.917704</td>\n",
       "      <td>0.0</td>\n",
       "      <td>0.819973</td>\n",
       "      <td>0.0</td>\n",
       "    </tr>\n",
       "    <tr>\n",
       "      <th>MonthlyCharges</th>\n",
       "      <td>0.912978</td>\n",
       "      <td>0.0</td>\n",
       "      <td>0.928404</td>\n",
       "      <td>0.0</td>\n",
       "    </tr>\n",
       "    <tr>\n",
       "      <th>TotalCharges</th>\n",
       "      <td>0.883559</td>\n",
       "      <td>0.0</td>\n",
       "      <td>0.778718</td>\n",
       "      <td>0.0</td>\n",
       "    </tr>\n",
       "  </tbody>\n",
       "</table>\n",
       "</div>"
      ],
      "text/plain": [
       "                 W-stat1 pval1   W-stat2 pval2\n",
       "tenure          0.917704   0.0  0.819973   0.0\n",
       "MonthlyCharges  0.912978   0.0  0.928404   0.0\n",
       "TotalCharges    0.883559   0.0  0.778718   0.0"
      ]
     },
     "execution_count": 12,
     "metadata": {},
     "output_type": "execute_result"
    }
   ],
   "source": [
    "df_shapiro_num"
   ]
  },
  {
   "cell_type": "markdown",
   "id": "106589df",
   "metadata": {},
   "source": [
    "**From the Shapiro test**, we reject the null hypothesis\n",
    "\n",
    "- Hence the features are not normally distributed\n",
    "\n",
    "Since the assumption of th t-test is violated, we have to proceed with non parametric tests such as **Mann-whitney u test** to understand the significance of the variables"
   ]
  },
  {
   "cell_type": "markdown",
   "id": "44af34cc",
   "metadata": {},
   "source": [
    "## Mann Whitney U test"
   ]
  },
  {
   "cell_type": "markdown",
   "id": "dc26c13e",
   "metadata": {},
   "source": [
    "### Hypothesis Framing\n",
    "\n",
    "- Ho : The two samples have the same median\n",
    "- Ha : The two samples have different median"
   ]
  },
  {
   "cell_type": "code",
   "execution_count": 13,
   "id": "41a666c5",
   "metadata": {},
   "outputs": [],
   "source": [
    "df_mw = pd.DataFrame(index=df_num.columns,columns=['Ustat','pval'])\n",
    "for i in df_num.columns:\n",
    "    group_1 = df_num[i][df['Churn'] == 'No']\n",
    "    group_2 = df_num[i][df['Churn'] == 'Yes']\n",
    "    hstat,pval = stats.mannwhitneyu(group_1,group_2)\n",
    "    df_mw.loc[i,'Ustat'] = hstat\n",
    "    df_mw.loc[i,'pval'] = pval"
   ]
  },
  {
   "cell_type": "code",
   "execution_count": 14,
   "id": "276076e0",
   "metadata": {},
   "outputs": [
    {
     "data": {
      "text/html": [
       "<div>\n",
       "<style scoped>\n",
       "    .dataframe tbody tr th:only-of-type {\n",
       "        vertical-align: middle;\n",
       "    }\n",
       "\n",
       "    .dataframe tbody tr th {\n",
       "        vertical-align: top;\n",
       "    }\n",
       "\n",
       "    .dataframe thead th {\n",
       "        text-align: right;\n",
       "    }\n",
       "</style>\n",
       "<table border=\"1\" class=\"dataframe\">\n",
       "  <thead>\n",
       "    <tr style=\"text-align: right;\">\n",
       "      <th></th>\n",
       "      <th>Ustat</th>\n",
       "      <th>pval</th>\n",
       "    </tr>\n",
       "  </thead>\n",
       "  <tbody>\n",
       "    <tr>\n",
       "      <th>tenure</th>\n",
       "      <td>7154668.0</td>\n",
       "      <td>0.0</td>\n",
       "    </tr>\n",
       "    <tr>\n",
       "      <th>MonthlyCharges</th>\n",
       "      <td>3663498.5</td>\n",
       "      <td>0.0</td>\n",
       "    </tr>\n",
       "    <tr>\n",
       "      <th>TotalCharges</th>\n",
       "      <td>6288982.0</td>\n",
       "      <td>0.0</td>\n",
       "    </tr>\n",
       "  </tbody>\n",
       "</table>\n",
       "</div>"
      ],
      "text/plain": [
       "                    Ustat pval\n",
       "tenure          7154668.0  0.0\n",
       "MonthlyCharges  3663498.5  0.0\n",
       "TotalCharges    6288982.0  0.0"
      ]
     },
     "execution_count": 14,
     "metadata": {},
     "output_type": "execute_result"
    }
   ],
   "source": [
    "df_mw"
   ]
  },
  {
   "cell_type": "markdown",
   "id": "640db299",
   "metadata": {},
   "source": [
    "**From the Mann Whitney U test**, we reject the null hypothesis\n",
    "\n",
    "- All the features are statistically significant to have different medians"
   ]
  },
  {
   "cell_type": "markdown",
   "id": "205ec321",
   "metadata": {},
   "source": [
    "## Statistical test for categorical variables:"
   ]
  },
  {
   "cell_type": "markdown",
   "id": "0c8ad055",
   "metadata": {},
   "source": [
    "### Hypothesis Framing\n",
    "\n",
    "- Ho : There is no relation between independent features and readmitted\n",
    "- Ha : There is relation between independent features and readmitted"
   ]
  },
  {
   "cell_type": "code",
   "execution_count": 15,
   "id": "6b97ed47",
   "metadata": {
    "scrolled": false
   },
   "outputs": [],
   "source": [
    "df_Chi2_contingency_cat = pd.DataFrame({'Features':obj_cols})\n",
    "P_value = []\n",
    "dof = []\n",
    "for i in obj_cols:\n",
    "    obs = pd.crosstab(df_cat[i],df['Churn'])\n",
    "    chi_sq,p_val,ddof,exp = stats.chi2_contingency(obs)\n",
    "    P_value.append(p_val)\n",
    "    dof.append(ddof)\n",
    "    \n",
    "df_Chi2_contingency_cat['P_val'] = P_value"
   ]
  },
  {
   "cell_type": "code",
   "execution_count": 16,
   "id": "eda83563",
   "metadata": {},
   "outputs": [
    {
     "name": "stdout",
     "output_type": "stream",
     "text": [
      "16 2\n"
     ]
    }
   ],
   "source": [
    "insig_cat = df_Chi2_contingency_cat[df_Chi2_contingency_cat['P_val'] > 0.05].sort_values(by='P_val',ascending=True)\n",
    "sig_cat = df_Chi2_contingency_cat[df_Chi2_contingency_cat['P_val'] <= 0.05].sort_values(by='P_val',ascending=True)\n",
    "print(len(obj_cols),len(insig_cat))"
   ]
  },
  {
   "cell_type": "code",
   "execution_count": 17,
   "id": "bea2abb0",
   "metadata": {},
   "outputs": [
    {
     "data": {
      "text/html": [
       "<div>\n",
       "<style scoped>\n",
       "    .dataframe tbody tr th:only-of-type {\n",
       "        vertical-align: middle;\n",
       "    }\n",
       "\n",
       "    .dataframe tbody tr th {\n",
       "        vertical-align: top;\n",
       "    }\n",
       "\n",
       "    .dataframe thead th {\n",
       "        text-align: right;\n",
       "    }\n",
       "</style>\n",
       "<table border=\"1\" class=\"dataframe\">\n",
       "  <thead>\n",
       "    <tr style=\"text-align: right;\">\n",
       "      <th></th>\n",
       "      <th>Features</th>\n",
       "      <th>P_val</th>\n",
       "    </tr>\n",
       "  </thead>\n",
       "  <tbody>\n",
       "    <tr>\n",
       "      <th>4</th>\n",
       "      <td>PhoneService</td>\n",
       "      <td>0.349924</td>\n",
       "    </tr>\n",
       "    <tr>\n",
       "      <th>0</th>\n",
       "      <td>gender</td>\n",
       "      <td>0.490488</td>\n",
       "    </tr>\n",
       "  </tbody>\n",
       "</table>\n",
       "</div>"
      ],
      "text/plain": [
       "       Features     P_val\n",
       "4  PhoneService  0.349924\n",
       "0        gender  0.490488"
      ]
     },
     "execution_count": 17,
     "metadata": {},
     "output_type": "execute_result"
    }
   ],
   "source": [
    "insig_cat"
   ]
  },
  {
   "cell_type": "markdown",
   "id": "fec055bf",
   "metadata": {},
   "source": [
    "**From the Chi-square contingency test**, features regarding PhoneService and Gender is found to have no relation with the Churn rate. Hence from further analysis, it can be excluded"
   ]
  },
  {
   "cell_type": "markdown",
   "id": "cc57fa7d",
   "metadata": {},
   "source": [
    "## One hot encoding"
   ]
  },
  {
   "cell_type": "code",
   "execution_count": 18,
   "id": "f77cc6c9",
   "metadata": {},
   "outputs": [],
   "source": [
    "df_cat_dummy = pd.get_dummies(df_cat[sig_cat.Features],drop_first=True)\n",
    "df_sig = pd.concat(objs=[df_num,df_cat_dummy],axis=1)"
   ]
  },
  {
   "cell_type": "markdown",
   "id": "211d91bf",
   "metadata": {},
   "source": [
    "## Transformation for Skewness"
   ]
  },
  {
   "cell_type": "code",
   "execution_count": 19,
   "id": "e291a29c",
   "metadata": {},
   "outputs": [
    {
     "data": {
      "text/plain": [
       "tenure            0.237731\n",
       "MonthlyCharges   -0.222103\n",
       "TotalCharges      0.961642\n",
       "dtype: float64"
      ]
     },
     "execution_count": 19,
     "metadata": {},
     "output_type": "execute_result"
    }
   ],
   "source": [
    "df_num.skew()"
   ]
  },
  {
   "cell_type": "code",
   "execution_count": 20,
   "id": "0c5bebc0",
   "metadata": {},
   "outputs": [
    {
     "data": {
      "text/plain": [
       "<AxesSubplot:xlabel='TotalCharges', ylabel='Density'>"
      ]
     },
     "execution_count": 20,
     "metadata": {},
     "output_type": "execute_result"
    },
    {
     "data": {
      "image/png": "[encoded data removed]",
      "text/plain": [
       "<Figure size 432x288 with 1 Axes>"
      ]
     },
     "metadata": {
      "needs_background": "light"
     },
     "output_type": "display_data"
    }
   ],
   "source": [
    "sns.kdeplot(np.sqrt(df_num.TotalCharges))"
   ]
  },
  {
   "cell_type": "code",
   "execution_count": 21,
   "id": "715eedb4",
   "metadata": {},
   "outputs": [],
   "source": [
    "df_sig.TotalCharges = np.sqrt(df_num.TotalCharges)"
   ]
  },
  {
   "cell_type": "code",
   "execution_count": 22,
   "id": "ea8135ba",
   "metadata": {},
   "outputs": [
    {
     "data": {
      "text/plain": [
       "tenure            0.237731\n",
       "MonthlyCharges   -0.222103\n",
       "TotalCharges      0.308926\n",
       "dtype: float64"
      ]
     },
     "execution_count": 22,
     "metadata": {},
     "output_type": "execute_result"
    }
   ],
   "source": [
    "df_sig[num_cols].skew()"
   ]
  },
  {
   "cell_type": "markdown",
   "id": "e8bdcecd",
   "metadata": {},
   "source": [
    "## Multicollinearity after encoding"
   ]
  },
  {
   "cell_type": "code",
   "execution_count": 23,
   "id": "03dd3768",
   "metadata": {},
   "outputs": [
    {
     "data": {
      "image/png": "[encoded data removed]",
      "text/plain": [
       "<Figure size 1440x1440 with 2 Axes>"
      ]
     },
     "metadata": {
      "needs_background": "light"
     },
     "output_type": "display_data"
    }
   ],
   "source": [
    "plt.figure(figsize=(20,20))\n",
    "corre = df_sig.corr()\n",
    "sns.heatmap(corre,annot=True,fmt='.2f',cmap='seismic',vmin=-1,vmax=1,mask=np.triu(corre))\n",
    "plt.show()"
   ]
  },
  {
   "cell_type": "code",
   "execution_count": 24,
   "id": "6b040ccf",
   "metadata": {},
   "outputs": [
    {
     "data": {
      "text/html": [
       "<div>\n",
       "<style scoped>\n",
       "    .dataframe tbody tr th:only-of-type {\n",
       "        vertical-align: middle;\n",
       "    }\n",
       "\n",
       "    .dataframe tbody tr th {\n",
       "        vertical-align: top;\n",
       "    }\n",
       "\n",
       "    .dataframe thead th {\n",
       "        text-align: right;\n",
       "    }\n",
       "</style>\n",
       "<table border=\"1\" class=\"dataframe\">\n",
       "  <thead>\n",
       "    <tr style=\"text-align: right;\">\n",
       "      <th></th>\n",
       "      <th>Features</th>\n",
       "      <th>vif</th>\n",
       "    </tr>\n",
       "  </thead>\n",
       "  <tbody>\n",
       "    <tr>\n",
       "      <th>0</th>\n",
       "      <td>tenure</td>\n",
       "      <td>7.600806</td>\n",
       "    </tr>\n",
       "    <tr>\n",
       "      <th>2</th>\n",
       "      <td>Contract_Two year</td>\n",
       "      <td>3.456841</td>\n",
       "    </tr>\n",
       "    <tr>\n",
       "      <th>5</th>\n",
       "      <td>InternetService_Fiber optic</td>\n",
       "      <td>3.158971</td>\n",
       "    </tr>\n",
       "    <tr>\n",
       "      <th>17</th>\n",
       "      <td>Partner_Yes</td>\n",
       "      <td>2.810796</td>\n",
       "    </tr>\n",
       "    <tr>\n",
       "      <th>14</th>\n",
       "      <td>PaperlessBilling_Yes</td>\n",
       "      <td>2.676755</td>\n",
       "    </tr>\n",
       "    <tr>\n",
       "      <th>11</th>\n",
       "      <td>StreamingMovies_Yes</td>\n",
       "      <td>2.668318</td>\n",
       "    </tr>\n",
       "    <tr>\n",
       "      <th>13</th>\n",
       "      <td>StreamingTV_Yes</td>\n",
       "      <td>2.639348</td>\n",
       "    </tr>\n",
       "    <tr>\n",
       "      <th>12</th>\n",
       "      <td>StreamingTV_No internet service</td>\n",
       "      <td>2.558868</td>\n",
       "    </tr>\n",
       "    <tr>\n",
       "      <th>19</th>\n",
       "      <td>MultipleLines_Yes</td>\n",
       "      <td>2.438051</td>\n",
       "    </tr>\n",
       "    <tr>\n",
       "      <th>10</th>\n",
       "      <td>DeviceProtection_Yes</td>\n",
       "      <td>2.241119</td>\n",
       "    </tr>\n",
       "    <tr>\n",
       "      <th>7</th>\n",
       "      <td>PaymentMethod_Electronic check</td>\n",
       "      <td>2.208891</td>\n",
       "    </tr>\n",
       "    <tr>\n",
       "      <th>9</th>\n",
       "      <td>OnlineBackup_Yes</td>\n",
       "      <td>2.084714</td>\n",
       "    </tr>\n",
       "    <tr>\n",
       "      <th>1</th>\n",
       "      <td>Contract_One year</td>\n",
       "      <td>2.053078</td>\n",
       "    </tr>\n",
       "    <tr>\n",
       "      <th>4</th>\n",
       "      <td>TechSupport_Yes</td>\n",
       "      <td>2.018835</td>\n",
       "    </tr>\n",
       "    <tr>\n",
       "      <th>15</th>\n",
       "      <td>Dependents_Yes</td>\n",
       "      <td>1.946485</td>\n",
       "    </tr>\n",
       "    <tr>\n",
       "      <th>3</th>\n",
       "      <td>OnlineSecurity_Yes</td>\n",
       "      <td>1.897780</td>\n",
       "    </tr>\n",
       "    <tr>\n",
       "      <th>8</th>\n",
       "      <td>PaymentMethod_Mailed check</td>\n",
       "      <td>1.747018</td>\n",
       "    </tr>\n",
       "    <tr>\n",
       "      <th>6</th>\n",
       "      <td>PaymentMethod_Credit card (automatic)</td>\n",
       "      <td>1.698933</td>\n",
       "    </tr>\n",
       "    <tr>\n",
       "      <th>16</th>\n",
       "      <td>SeniorCitizen_Yes</td>\n",
       "      <td>1.368642</td>\n",
       "    </tr>\n",
       "    <tr>\n",
       "      <th>18</th>\n",
       "      <td>MultipleLines_No phone service</td>\n",
       "      <td>1.367033</td>\n",
       "    </tr>\n",
       "  </tbody>\n",
       "</table>\n",
       "</div>"
      ],
      "text/plain": [
       "                                 Features       vif\n",
       "0                                  tenure  7.600806\n",
       "2                       Contract_Two year  3.456841\n",
       "5             InternetService_Fiber optic  3.158971\n",
       "17                            Partner_Yes  2.810796\n",
       "14                   PaperlessBilling_Yes  2.676755\n",
       "11                    StreamingMovies_Yes  2.668318\n",
       "13                        StreamingTV_Yes  2.639348\n",
       "12        StreamingTV_No internet service  2.558868\n",
       "19                      MultipleLines_Yes  2.438051\n",
       "10                   DeviceProtection_Yes  2.241119\n",
       "7          PaymentMethod_Electronic check  2.208891\n",
       "9                        OnlineBackup_Yes  2.084714\n",
       "1                       Contract_One year  2.053078\n",
       "4                         TechSupport_Yes  2.018835\n",
       "15                         Dependents_Yes  1.946485\n",
       "3                      OnlineSecurity_Yes  1.897780\n",
       "8              PaymentMethod_Mailed check  1.747018\n",
       "6   PaymentMethod_Credit card (automatic)  1.698933\n",
       "16                      SeniorCitizen_Yes  1.368642\n",
       "18         MultipleLines_No phone service  1.367033"
      ]
     },
     "execution_count": 24,
     "metadata": {},
     "output_type": "execute_result"
    }
   ],
   "source": [
    "df_sig_copy = df_sig.copy()\n",
    "removed_columns = []\n",
    "while True:\n",
    "    vif = pd.DataFrame({'Features':df_sig_copy.columns})\n",
    "    vif['vif'] = [variance_inflation_factor(df_sig_copy.values,i) for i in range(df_sig_copy.shape[1])]\n",
    "    vif_max_value = vif['vif'].max()\n",
    "    if vif_max_value > 10:\n",
    "        removed_feature = vif.iloc[(vif['vif'].idxmax())]['Features']\n",
    "        removed_columns.append([removed_feature,vif_max_value])\n",
    "        df_sig_copy.drop(columns=removed_feature,inplace=True)\n",
    "    else:\n",
    "        break\n",
    "cols = vif.sort_values(by='vif',ascending=False).head(2).Features\n",
    "vif.sort_values(by='vif',ascending=False)"
   ]
  },
  {
   "cell_type": "code",
   "execution_count": 25,
   "id": "5416fac1",
   "metadata": {},
   "outputs": [
    {
     "data": {
      "text/plain": [
       "[['OnlineSecurity_No internet service', inf],\n",
       " ['TechSupport_No internet service', inf],\n",
       " ['InternetService_No', inf],\n",
       " ['OnlineBackup_No internet service', inf],\n",
       " ['DeviceProtection_No internet service', inf],\n",
       " ['StreamingMovies_No internet service', inf],\n",
       " ['TotalCharges', 89.77081915615346],\n",
       " ['MonthlyCharges', 38.328846187774175]]"
      ]
     },
     "execution_count": 25,
     "metadata": {},
     "output_type": "execute_result"
    }
   ],
   "source": [
    "removed_columns"
   ]
  },
  {
   "cell_type": "code",
   "execution_count": 26,
   "id": "04d49b69",
   "metadata": {},
   "outputs": [],
   "source": [
    "df_final = df_sig[vif['Features'].values]"
   ]
  },
  {
   "cell_type": "markdown",
   "id": "075b7347",
   "metadata": {},
   "source": [
    "## Train test val splitting and Feature selection by Recursive Backward Elimination"
   ]
  },
  {
   "cell_type": "code",
   "execution_count": 27,
   "id": "3550ffc9",
   "metadata": {
    "scrolled": true
   },
   "outputs": [
    {
     "name": "stdout",
     "output_type": "stream",
     "text": [
      "20\n",
      "15\n"
     ]
    }
   ],
   "source": [
    "## Splitting the dataset\n",
    "xtrain_test, xval, ytrain_test, yval = train_test_split(df_final,y,train_size=0.8,random_state=10,stratify=y)\n",
    "xtrain, xtest, ytrain, ytest = train_test_split(xtrain_test,ytrain_test,train_size=0.8,random_state=10,stratify=ytrain_test)\n",
    "\n",
    "#Feature Selection by Recursive Backward Elimination\n",
    "cols = list(xtrain.columns)\n",
    "print(len(cols))\n",
    "pmax = 1\n",
    "while (len(cols)>0):\n",
    "    p= []\n",
    "    X = xtrain[cols]\n",
    "    Xc = sm.add_constant(X)\n",
    "    model = sm.OLS(ytrain,Xc).fit()\n",
    "    p = pd.Series(model.pvalues.values[1:],index = cols)      \n",
    "    pmax = max(p)\n",
    "    feature_with_p_max = p.idxmax()\n",
    "    if(pmax>0.05):\n",
    "        cols.remove(feature_with_p_max)\n",
    "    else:\n",
    "        break\n",
    "significant_features_final = cols\n",
    "print(len(significant_features_final))"
   ]
  },
  {
   "cell_type": "code",
   "execution_count": 28,
   "id": "f8a1514b",
   "metadata": {},
   "outputs": [
    {
     "name": "stdout",
     "output_type": "stream",
     "text": [
      "['tenure', 'Contract_One year', 'Contract_Two year', 'OnlineSecurity_Yes', 'TechSupport_Yes', 'InternetService_Fiber optic', 'PaymentMethod_Electronic check', 'OnlineBackup_Yes', 'StreamingMovies_Yes', 'StreamingTV_No internet service', 'StreamingTV_Yes', 'PaperlessBilling_Yes', 'SeniorCitizen_Yes', 'MultipleLines_No phone service', 'MultipleLines_Yes']\n"
     ]
    }
   ],
   "source": [
    "print(significant_features_final)"
   ]
  },
  {
   "cell_type": "code",
   "execution_count": 29,
   "id": "aaa5ab08",
   "metadata": {},
   "outputs": [],
   "source": [
    "churn_df_details['significant_features'] = significant_features_final"
   ]
  },
  {
   "cell_type": "markdown",
   "id": "bbc897dd",
   "metadata": {},
   "source": [
    "## Base model"
   ]
  },
  {
   "cell_type": "markdown",
   "id": "6a7fcf1d",
   "metadata": {},
   "source": [
    "### 1) Logistic Regression"
   ]
  },
  {
   "cell_type": "markdown",
   "id": "2936e76f",
   "metadata": {},
   "source": [
    "**The logistic regression method assumes that:**\n",
    "\n",
    "- The outcome is a binary or dichotomous variable like yes vs no, positive vs negative, 1 vs 0\n",
    "- There is a linear relationship between the logit of the outcome and each predictor variables. Recall that the logit function is logit(p) = log(p/(1-p)), where p is the probabilities of the outcome.\n",
    "- There is no influential values (extreme values or outliers) in the continuous predictors\n",
    "- There is no high intercorrelations (i.e. multicollinearity) among the predictors"
   ]
  },
  {
   "cell_type": "code",
   "execution_count": 30,
   "id": "3138588f",
   "metadata": {},
   "outputs": [
    {
     "data": {
      "text/html": [
       "<table class=\"simpletable\">\n",
       "<caption>OLS Regression Results</caption>\n",
       "<tr>\n",
       "  <th>Dep. Variable:</th>          <td>Churn</td>      <th>  R-squared:         </th> <td>   0.276</td> \n",
       "</tr>\n",
       "<tr>\n",
       "  <th>Model:</th>                   <td>OLS</td>       <th>  Adj. R-squared:    </th> <td>   0.273</td> \n",
       "</tr>\n",
       "<tr>\n",
       "  <th>Method:</th>             <td>Least Squares</td>  <th>  F-statistic:       </th> <td>   113.7</td> \n",
       "</tr>\n",
       "<tr>\n",
       "  <th>Date:</th>             <td>Sun, 02 Jan 2022</td> <th>  Prob (F-statistic):</th> <td>8.49e-300</td>\n",
       "</tr>\n",
       "<tr>\n",
       "  <th>Time:</th>                 <td>12:44:26</td>     <th>  Log-Likelihood:    </th> <td> -1983.2</td> \n",
       "</tr>\n",
       "<tr>\n",
       "  <th>No. Observations:</th>      <td>  4500</td>      <th>  AIC:               </th> <td>   3998.</td> \n",
       "</tr>\n",
       "<tr>\n",
       "  <th>Df Residuals:</th>          <td>  4484</td>      <th>  BIC:               </th> <td>   4101.</td> \n",
       "</tr>\n",
       "<tr>\n",
       "  <th>Df Model:</th>              <td>    15</td>      <th>                     </th>     <td> </td>    \n",
       "</tr>\n",
       "<tr>\n",
       "  <th>Covariance Type:</th>      <td>nonrobust</td>    <th>                     </th>     <td> </td>    \n",
       "</tr>\n",
       "</table>\n",
       "<table class=\"simpletable\">\n",
       "<tr>\n",
       "                 <td></td>                    <th>coef</th>     <th>std err</th>      <th>t</th>      <th>P>|t|</th>  <th>[0.025</th>    <th>0.975]</th>  \n",
       "</tr>\n",
       "<tr>\n",
       "  <th>const</th>                           <td>    0.3659</td> <td>    0.018</td> <td>   19.991</td> <td> 0.000</td> <td>    0.330</td> <td>    0.402</td>\n",
       "</tr>\n",
       "<tr>\n",
       "  <th>tenure</th>                          <td>   -0.0051</td> <td>    0.000</td> <td>  -13.960</td> <td> 0.000</td> <td>   -0.006</td> <td>   -0.004</td>\n",
       "</tr>\n",
       "<tr>\n",
       "  <th>Contract_One year</th>               <td>   -0.0950</td> <td>    0.017</td> <td>   -5.433</td> <td> 0.000</td> <td>   -0.129</td> <td>   -0.061</td>\n",
       "</tr>\n",
       "<tr>\n",
       "  <th>Contract_Two year</th>               <td>   -0.0545</td> <td>    0.021</td> <td>   -2.569</td> <td> 0.010</td> <td>   -0.096</td> <td>   -0.013</td>\n",
       "</tr>\n",
       "<tr>\n",
       "  <th>OnlineSecurity_Yes</th>              <td>   -0.0659</td> <td>    0.015</td> <td>   -4.443</td> <td> 0.000</td> <td>   -0.095</td> <td>   -0.037</td>\n",
       "</tr>\n",
       "<tr>\n",
       "  <th>TechSupport_Yes</th>                 <td>   -0.0631</td> <td>    0.015</td> <td>   -4.183</td> <td> 0.000</td> <td>   -0.093</td> <td>   -0.034</td>\n",
       "</tr>\n",
       "<tr>\n",
       "  <th>InternetService_Fiber optic</th>     <td>    0.1337</td> <td>    0.016</td> <td>    8.338</td> <td> 0.000</td> <td>    0.102</td> <td>    0.165</td>\n",
       "</tr>\n",
       "<tr>\n",
       "  <th>PaymentMethod_Electronic check</th>  <td>    0.0775</td> <td>    0.014</td> <td>    5.691</td> <td> 0.000</td> <td>    0.051</td> <td>    0.104</td>\n",
       "</tr>\n",
       "<tr>\n",
       "  <th>OnlineBackup_Yes</th>                <td>   -0.0280</td> <td>    0.014</td> <td>   -2.005</td> <td> 0.045</td> <td>   -0.055</td> <td>   -0.001</td>\n",
       "</tr>\n",
       "<tr>\n",
       "  <th>StreamingMovies_Yes</th>             <td>    0.0324</td> <td>    0.015</td> <td>    2.211</td> <td> 0.027</td> <td>    0.004</td> <td>    0.061</td>\n",
       "</tr>\n",
       "<tr>\n",
       "  <th>StreamingTV_No internet service</th> <td>   -0.1289</td> <td>    0.022</td> <td>   -5.885</td> <td> 0.000</td> <td>   -0.172</td> <td>   -0.086</td>\n",
       "</tr>\n",
       "<tr>\n",
       "  <th>StreamingTV_Yes</th>                 <td>    0.0310</td> <td>    0.015</td> <td>    2.117</td> <td> 0.034</td> <td>    0.002</td> <td>    0.060</td>\n",
       "</tr>\n",
       "<tr>\n",
       "  <th>PaperlessBilling_Yes</th>            <td>    0.0513</td> <td>    0.013</td> <td>    4.086</td> <td> 0.000</td> <td>    0.027</td> <td>    0.076</td>\n",
       "</tr>\n",
       "<tr>\n",
       "  <th>SeniorCitizen_Yes</th>               <td>    0.0393</td> <td>    0.016</td> <td>    2.451</td> <td> 0.014</td> <td>    0.008</td> <td>    0.071</td>\n",
       "</tr>\n",
       "<tr>\n",
       "  <th>MultipleLines_No phone service</th>  <td>    0.0673</td> <td>    0.022</td> <td>    3.040</td> <td> 0.002</td> <td>    0.024</td> <td>    0.111</td>\n",
       "</tr>\n",
       "<tr>\n",
       "  <th>MultipleLines_Yes</th>               <td>    0.0474</td> <td>    0.014</td> <td>    3.457</td> <td> 0.001</td> <td>    0.021</td> <td>    0.074</td>\n",
       "</tr>\n",
       "</table>\n",
       "<table class=\"simpletable\">\n",
       "<tr>\n",
       "  <th>Omnibus:</th>       <td>275.770</td> <th>  Durbin-Watson:     </th> <td>   1.999</td>\n",
       "</tr>\n",
       "<tr>\n",
       "  <th>Prob(Omnibus):</th> <td> 0.000</td>  <th>  Jarque-Bera (JB):  </th> <td> 259.954</td>\n",
       "</tr>\n",
       "<tr>\n",
       "  <th>Skew:</th>          <td> 0.532</td>  <th>  Prob(JB):          </th> <td>3.56e-57</td>\n",
       "</tr>\n",
       "<tr>\n",
       "  <th>Kurtosis:</th>      <td> 2.496</td>  <th>  Cond. No.          </th> <td>    224.</td>\n",
       "</tr>\n",
       "</table><br/><br/>Notes:<br/>[1] Standard Errors assume that the covariance matrix of the errors is correctly specified."
      ],
      "text/plain": [
       "<class 'statsmodels.iolib.summary.Summary'>\n",
       "\"\"\"\n",
       "                            OLS Regression Results                            \n",
       "==============================================================================\n",
       "Dep. Variable:                  Churn   R-squared:                       0.276\n",
       "Model:                            OLS   Adj. R-squared:                  0.273\n",
       "Method:                 Least Squares   F-statistic:                     113.7\n",
       "Date:                Sun, 02 Jan 2022   Prob (F-statistic):          8.49e-300\n",
       "Time:                        12:44:26   Log-Likelihood:                -1983.2\n",
       "No. Observations:                4500   AIC:                             3998.\n",
       "Df Residuals:                    4484   BIC:                             4101.\n",
       "Df Model:                          15                                         \n",
       "Covariance Type:            nonrobust                                         \n",
       "===================================================================================================\n",
       "                                      coef    std err          t      P>|t|      [0.025      0.975]\n",
       "---------------------------------------------------------------------------------------------------\n",
       "const                               0.3659      0.018     19.991      0.000       0.330       0.402\n",
       "tenure                             -0.0051      0.000    -13.960      0.000      -0.006      -0.004\n",
       "Contract_One year                  -0.0950      0.017     -5.433      0.000      -0.129      -0.061\n",
       "Contract_Two year                  -0.0545      0.021     -2.569      0.010      -0.096      -0.013\n",
       "OnlineSecurity_Yes                 -0.0659      0.015     -4.443      0.000      -0.095      -0.037\n",
       "TechSupport_Yes                    -0.0631      0.015     -4.183      0.000      -0.093      -0.034\n",
       "InternetService_Fiber optic         0.1337      0.016      8.338      0.000       0.102       0.165\n",
       "PaymentMethod_Electronic check      0.0775      0.014      5.691      0.000       0.051       0.104\n",
       "OnlineBackup_Yes                   -0.0280      0.014     -2.005      0.045      -0.055      -0.001\n",
       "StreamingMovies_Yes                 0.0324      0.015      2.211      0.027       0.004       0.061\n",
       "StreamingTV_No internet service    -0.1289      0.022     -5.885      0.000      -0.172      -0.086\n",
       "StreamingTV_Yes                     0.0310      0.015      2.117      0.034       0.002       0.060\n",
       "PaperlessBilling_Yes                0.0513      0.013      4.086      0.000       0.027       0.076\n",
       "SeniorCitizen_Yes                   0.0393      0.016      2.451      0.014       0.008       0.071\n",
       "MultipleLines_No phone service      0.0673      0.022      3.040      0.002       0.024       0.111\n",
       "MultipleLines_Yes                   0.0474      0.014      3.457      0.001       0.021       0.074\n",
       "==============================================================================\n",
       "Omnibus:                      275.770   Durbin-Watson:                   1.999\n",
       "Prob(Omnibus):                  0.000   Jarque-Bera (JB):              259.954\n",
       "Skew:                           0.532   Prob(JB):                     3.56e-57\n",
       "Kurtosis:                       2.496   Cond. No.                         224.\n",
       "==============================================================================\n",
       "\n",
       "Notes:\n",
       "[1] Standard Errors assume that the covariance matrix of the errors is correctly specified.\n",
       "\"\"\""
      ]
     },
     "execution_count": 30,
     "metadata": {},
     "output_type": "execute_result"
    }
   ],
   "source": [
    "Xc = sm.add_constant(xtrain[significant_features_final])\n",
    "model_lr = sm.OLS(ytrain,Xc).fit()\n",
    "model_lr.summary()"
   ]
  },
  {
   "cell_type": "markdown",
   "id": "bd287417",
   "metadata": {},
   "source": [
    "#### Interpretation from Coefficients"
   ]
  },
  {
   "cell_type": "code",
   "execution_count": 31,
   "id": "399bcf98",
   "metadata": {},
   "outputs": [
    {
     "data": {
      "text/html": [
       "<div>\n",
       "<style scoped>\n",
       "    .dataframe tbody tr th:only-of-type {\n",
       "        vertical-align: middle;\n",
       "    }\n",
       "\n",
       "    .dataframe tbody tr th {\n",
       "        vertical-align: top;\n",
       "    }\n",
       "\n",
       "    .dataframe thead th {\n",
       "        text-align: right;\n",
       "    }\n",
       "</style>\n",
       "<table border=\"1\" class=\"dataframe\">\n",
       "  <thead>\n",
       "    <tr style=\"text-align: right;\">\n",
       "      <th></th>\n",
       "      <th>Features</th>\n",
       "      <th>RelativeRisk</th>\n",
       "    </tr>\n",
       "  </thead>\n",
       "  <tbody>\n",
       "    <tr>\n",
       "      <th>0</th>\n",
       "      <td>InternetService_Fiber optic</td>\n",
       "      <td>14.300363</td>\n",
       "    </tr>\n",
       "    <tr>\n",
       "      <th>1</th>\n",
       "      <td>PaymentMethod_Electronic check</td>\n",
       "      <td>8.059020</td>\n",
       "    </tr>\n",
       "    <tr>\n",
       "      <th>2</th>\n",
       "      <td>MultipleLines_No phone service</td>\n",
       "      <td>6.958158</td>\n",
       "    </tr>\n",
       "    <tr>\n",
       "      <th>3</th>\n",
       "      <td>PaperlessBilling_Yes</td>\n",
       "      <td>5.259121</td>\n",
       "    </tr>\n",
       "    <tr>\n",
       "      <th>4</th>\n",
       "      <td>MultipleLines_Yes</td>\n",
       "      <td>4.850065</td>\n",
       "    </tr>\n",
       "    <tr>\n",
       "      <th>5</th>\n",
       "      <td>SeniorCitizen_Yes</td>\n",
       "      <td>4.010462</td>\n",
       "    </tr>\n",
       "    <tr>\n",
       "      <th>6</th>\n",
       "      <td>StreamingMovies_Yes</td>\n",
       "      <td>3.288049</td>\n",
       "    </tr>\n",
       "    <tr>\n",
       "      <th>7</th>\n",
       "      <td>StreamingTV_Yes</td>\n",
       "      <td>3.146724</td>\n",
       "    </tr>\n",
       "    <tr>\n",
       "      <th>8</th>\n",
       "      <td>tenure</td>\n",
       "      <td>-0.510537</td>\n",
       "    </tr>\n",
       "    <tr>\n",
       "      <th>9</th>\n",
       "      <td>OnlineBackup_Yes</td>\n",
       "      <td>-2.758103</td>\n",
       "    </tr>\n",
       "    <tr>\n",
       "      <th>10</th>\n",
       "      <td>Contract_Two year</td>\n",
       "      <td>-5.307940</td>\n",
       "    </tr>\n",
       "    <tr>\n",
       "      <th>11</th>\n",
       "      <td>TechSupport_Yes</td>\n",
       "      <td>-6.111165</td>\n",
       "    </tr>\n",
       "    <tr>\n",
       "      <th>12</th>\n",
       "      <td>OnlineSecurity_Yes</td>\n",
       "      <td>-6.373798</td>\n",
       "    </tr>\n",
       "    <tr>\n",
       "      <th>13</th>\n",
       "      <td>Contract_One year</td>\n",
       "      <td>-9.062480</td>\n",
       "    </tr>\n",
       "    <tr>\n",
       "      <th>14</th>\n",
       "      <td>StreamingTV_No internet service</td>\n",
       "      <td>-12.091048</td>\n",
       "    </tr>\n",
       "  </tbody>\n",
       "</table>\n",
       "</div>"
      ],
      "text/plain": [
       "                           Features  RelativeRisk\n",
       "0       InternetService_Fiber optic     14.300363\n",
       "1    PaymentMethod_Electronic check      8.059020\n",
       "2    MultipleLines_No phone service      6.958158\n",
       "3              PaperlessBilling_Yes      5.259121\n",
       "4                 MultipleLines_Yes      4.850065\n",
       "5                 SeniorCitizen_Yes      4.010462\n",
       "6               StreamingMovies_Yes      3.288049\n",
       "7                   StreamingTV_Yes      3.146724\n",
       "8                            tenure     -0.510537\n",
       "9                  OnlineBackup_Yes     -2.758103\n",
       "10                Contract_Two year     -5.307940\n",
       "11                  TechSupport_Yes     -6.111165\n",
       "12               OnlineSecurity_Yes     -6.373798\n",
       "13                Contract_One year     -9.062480\n",
       "14  StreamingTV_No internet service    -12.091048"
      ]
     },
     "execution_count": 31,
     "metadata": {},
     "output_type": "execute_result"
    }
   ],
   "source": [
    "lr_coefficients = ((np.exp(model_lr.params[1:].sort_values(ascending=False))-1)*100).reset_index()\n",
    "lr_coefficients.columns = ['Features','RelativeRisk']\n",
    "lr_coefficients"
   ]
  },
  {
   "cell_type": "markdown",
   "id": "ea266b30",
   "metadata": {},
   "source": [
    "- The relative risk of churning is high for customers for the following features (adjusting for the others)\n",
    "    1. SeniorCitizen : Yes\n",
    "    2. No PhoneService\n",
    "    3. PhoneService with Multiple Telephone lines\n",
    "    4. InternetService with Fiber optic \n",
    "    5. Subscribed for premium Streaming services\n",
    "    6. Payment method by Electronic check\n",
    "    7. opted for PaperlessBilling\n",
    "-----\n",
    "- The relative risk of churning is less for customers for the features (adjusting for the others)\n",
    "    1. As tenure increases\n",
    "    2. not subscribed for InternetSerivce (subscribed for PhoneService)\n",
    "    3. subscribed for InternetService along with one of the following premium services\n",
    "        - OnlineBackup\n",
    "        - OnlineSecurity\n",
    "        - Premium TechSupport\n",
    "    4. Contract is either One year or Two year"
   ]
  },
  {
   "cell_type": "markdown",
   "id": "c31916e8",
   "metadata": {},
   "source": [
    "#### Interpretation from Intercept"
   ]
  },
  {
   "cell_type": "code",
   "execution_count": 32,
   "id": "3ebd0cd4",
   "metadata": {},
   "outputs": [
    {
     "data": {
      "text/plain": [
       "0.5904571208744669"
      ]
     },
     "execution_count": 32,
     "metadata": {},
     "output_type": "execute_result"
    }
   ],
   "source": [
    "intercept = model_lr.params.const\n",
    "intercept_exp = np.exp(intercept)\n",
    "intercept_exp/(1+intercept_exp)"
   ]
  },
  {
   "cell_type": "markdown",
   "id": "62396b47",
   "metadata": {},
   "source": [
    "A particular customer profile which has the following features\n",
    "1. Tenure - Zero (New customer)\n",
    "2. Not a SeniorCitizen\n",
    "3. Subscribed to PhoneService but does not have multiple telephone lines\n",
    "4. Subscribed to InternetService by DSL but does not use the following premium services\n",
    "    - OnlineSecurity\n",
    "    - Premium TechSupport\n",
    "    - Online Backup\n",
    "    - StreamingTV\n",
    "5. Contract - Month-to-month\n",
    "6. Payment Method other than electronic check\n",
    "7. Not subscribed to PaperlessBilling\n",
    "\n",
    "has the churn probability of **59%**"
   ]
  },
  {
   "cell_type": "markdown",
   "id": "af2a3f84",
   "metadata": {},
   "source": [
    "#### Cooks distance and Model Performance"
   ]
  },
  {
   "cell_type": "code",
   "execution_count": 33,
   "id": "a01f7aab",
   "metadata": {},
   "outputs": [
    {
     "name": "stdout",
     "output_type": "stream",
     "text": [
      "Max cooks distance : 0.0027878467666645527\n"
     ]
    }
   ],
   "source": [
    "influence = model_lr.get_influence()\n",
    "cooks = influence.cooks_distance\n",
    "print('Max cooks distance :',pd.Series(cooks[0]).max())\n",
    "ytrain_pred_lr = [0 if i < 0.5 else 1 for i in model_lr.predict(sm.add_constant(xtrain[significant_features_final]))]\n",
    "ytest_pred_lr = [0 if i < 0.5 else 1 for i in model_lr.predict(sm.add_constant(xtest[significant_features_final]))]"
   ]
  },
  {
   "cell_type": "code",
   "execution_count": 34,
   "id": "c0007357",
   "metadata": {},
   "outputs": [
    {
     "name": "stdout",
     "output_type": "stream",
     "text": [
      "Logistic Regression Classification report (Training) :\n",
      "\n",
      "               precision    recall  f1-score   support\n",
      "\n",
      "           0       0.84      0.91      0.87      3304\n",
      "           1       0.67      0.50      0.57      1196\n",
      "\n",
      "    accuracy                           0.80      4500\n",
      "   macro avg       0.75      0.71      0.72      4500\n",
      "weighted avg       0.79      0.80      0.79      4500\n",
      "\n",
      "Logistic Regression Classification report (Test) :\n",
      "\n",
      "               precision    recall  f1-score   support\n",
      "\n",
      "           0       0.85      0.91      0.88       826\n",
      "           1       0.68      0.55      0.60       299\n",
      "\n",
      "    accuracy                           0.81      1125\n",
      "   macro avg       0.76      0.73      0.74      1125\n",
      "weighted avg       0.80      0.81      0.80      1125\n",
      "\n"
     ]
    }
   ],
   "source": [
    "print('Logistic Regression Classification report (Training) :\\n\\n',classification_report(ytrain, ytrain_pred_lr))\n",
    "print('Logistic Regression Classification report (Test) :\\n\\n',classification_report(ytest, ytest_pred_lr))"
   ]
  },
  {
   "cell_type": "markdown",
   "id": "48d08e01",
   "metadata": {},
   "source": [
    "### 2) Bernoulli Naive Bayes "
   ]
  },
  {
   "cell_type": "code",
   "execution_count": 35,
   "id": "09860997",
   "metadata": {},
   "outputs": [],
   "source": [
    "model_bnb = BernoulliNB()\n",
    "model_bnb.fit(xtrain[significant_features_final].drop(columns='tenure'), ytrain)\n",
    "ytrain_pred_bnb = model_bnb.predict(xtrain[significant_features_final].drop(columns='tenure'))\n",
    "ytest_pred_bnb = model_bnb.predict(xtest[significant_features_final].drop(columns='tenure'))"
   ]
  },
  {
   "cell_type": "code",
   "execution_count": 36,
   "id": "fe47f95c",
   "metadata": {},
   "outputs": [
    {
     "data": {
      "text/plain": [
       "PaymentMethod_Electronic check     0.465427\n",
       "InternetService_Fiber optic        0.350669\n",
       "SeniorCitizen_Yes                  0.328354\n",
       "PaperlessBilling_Yes               0.149137\n",
       "StreamingMovies_Yes                0.077678\n",
       "StreamingTV_Yes                    0.072046\n",
       "MultipleLines_Yes                  0.039497\n",
       "MultipleLines_No phone service    -0.002369\n",
       "OnlineBackup_Yes                  -0.079022\n",
       "TechSupport_Yes                   -0.176180\n",
       "OnlineSecurity_Yes                -0.185649\n",
       "Contract_One year                 -0.224947\n",
       "StreamingTV_No internet service   -0.280373\n",
       "Contract_Two year                 -0.333280\n",
       "dtype: float64"
      ]
     },
     "execution_count": 36,
     "metadata": {},
     "output_type": "execute_result"
    }
   ],
   "source": [
    "prob_no_churn = ytrain.value_counts()[0]/len(ytrain)\n",
    "prob_churn = ytrain.value_counts()[1]/len(ytrain)\n",
    "\n",
    "df_feature_prob_bnb = pd.DataFrame(np.exp(model_bnb.feature_log_prob_),columns=significant_features_final[1:],index=['no_churn','churn']).T\n",
    "((df_feature_prob_bnb['churn']/df_feature_prob_bnb['no_churn']-1)*(prob_churn/prob_no_churn)).sort_values(ascending=False)"
   ]
  },
  {
   "cell_type": "markdown",
   "id": "964b7716",
   "metadata": {},
   "source": [
    "- The relative risk of churning is high for customers for the following features u (adjusting for the others)\n",
    "    1. SeniorCitizen : Yes\n",
    "    2. PhoneService with Multiple Telephone lines\n",
    "    3. InternetService with Fiber optic \n",
    "    4. Subscribed for premium Streaming services\n",
    "    5. Payment method by Electronic check\n",
    "    6. opted for PaperlessBilling\n",
    "-----\n",
    "- The relative risk of churning is less for customers for the features (adjusting for the others)\n",
    "    1. No PhoneService\n",
    "    2. As tenure increases\n",
    "    3. not subscribed for InternetSerivce (subscribed for PhoneService)\n",
    "    4. subscribed for InternetService along with one of the following premium services\n",
    "        - OnlineBackup\n",
    "        - OnlineSecurity\n",
    "        - Premium TechSupport\n",
    "    5. Contract is either One year or Two year"
   ]
  },
  {
   "cell_type": "code",
   "execution_count": 37,
   "id": "bbf0f3b2",
   "metadata": {},
   "outputs": [
    {
     "name": "stdout",
     "output_type": "stream",
     "text": [
      "Bernoulli Naive Bayes Classification report (Training) :\n",
      "\n",
      "               precision    recall  f1-score   support\n",
      "\n",
      "           0       0.86      0.81      0.84      3304\n",
      "           1       0.55      0.63      0.59      1196\n",
      "\n",
      "    accuracy                           0.77      4500\n",
      "   macro avg       0.71      0.72      0.71      4500\n",
      "weighted avg       0.78      0.77      0.77      4500\n",
      "\n",
      "Bernoulli Naive Bayes Classification report (Test) :\n",
      "\n",
      "               precision    recall  f1-score   support\n",
      "\n",
      "           0       0.87      0.82      0.84       826\n",
      "           1       0.57      0.67      0.62       299\n",
      "\n",
      "    accuracy                           0.78      1125\n",
      "   macro avg       0.72      0.74      0.73      1125\n",
      "weighted avg       0.79      0.78      0.78      1125\n",
      "\n"
     ]
    }
   ],
   "source": [
    "print('Bernoulli Naive Bayes Classification report (Training) :\\n\\n',classification_report(ytrain, ytrain_pred_bnb))\n",
    "print('Bernoulli Naive Bayes Classification report (Test) :\\n\\n',classification_report(ytest, ytest_pred_bnb))"
   ]
  },
  {
   "cell_type": "markdown",
   "id": "9c5a546a",
   "metadata": {},
   "source": [
    "### 3) Decision Tree Classifier"
   ]
  },
  {
   "cell_type": "code",
   "execution_count": 38,
   "id": "b077c2de",
   "metadata": {},
   "outputs": [],
   "source": [
    "model_dt = DecisionTreeClassifier(random_state=10)\n",
    "model_dt.fit(xtrain[significant_features_final], ytrain)\n",
    "y_train_pred_dt = model_dt.predict(xtrain[significant_features_final])\n",
    "y_test_pred_dt = model_dt.predict(xtest[significant_features_final])"
   ]
  },
  {
   "cell_type": "code",
   "execution_count": 39,
   "id": "3daaa3f9",
   "metadata": {},
   "outputs": [
    {
     "data": {
      "text/html": [
       "<div>\n",
       "<style scoped>\n",
       "    .dataframe tbody tr th:only-of-type {\n",
       "        vertical-align: middle;\n",
       "    }\n",
       "\n",
       "    .dataframe tbody tr th {\n",
       "        vertical-align: top;\n",
       "    }\n",
       "\n",
       "    .dataframe thead th {\n",
       "        text-align: right;\n",
       "    }\n",
       "</style>\n",
       "<table border=\"1\" class=\"dataframe\">\n",
       "  <thead>\n",
       "    <tr style=\"text-align: right;\">\n",
       "      <th></th>\n",
       "      <th>Features</th>\n",
       "      <th>Feature_imp</th>\n",
       "    </tr>\n",
       "  </thead>\n",
       "  <tbody>\n",
       "    <tr>\n",
       "      <th>0</th>\n",
       "      <td>tenure</td>\n",
       "      <td>0.426316</td>\n",
       "    </tr>\n",
       "    <tr>\n",
       "      <th>5</th>\n",
       "      <td>InternetService_Fiber optic</td>\n",
       "      <td>0.119964</td>\n",
       "    </tr>\n",
       "    <tr>\n",
       "      <th>7</th>\n",
       "      <td>OnlineBackup_Yes</td>\n",
       "      <td>0.050202</td>\n",
       "    </tr>\n",
       "    <tr>\n",
       "      <th>11</th>\n",
       "      <td>PaperlessBilling_Yes</td>\n",
       "      <td>0.049475</td>\n",
       "    </tr>\n",
       "    <tr>\n",
       "      <th>3</th>\n",
       "      <td>OnlineSecurity_Yes</td>\n",
       "      <td>0.047806</td>\n",
       "    </tr>\n",
       "    <tr>\n",
       "      <th>6</th>\n",
       "      <td>PaymentMethod_Electronic check</td>\n",
       "      <td>0.044289</td>\n",
       "    </tr>\n",
       "    <tr>\n",
       "      <th>14</th>\n",
       "      <td>MultipleLines_Yes</td>\n",
       "      <td>0.041296</td>\n",
       "    </tr>\n",
       "    <tr>\n",
       "      <th>8</th>\n",
       "      <td>StreamingMovies_Yes</td>\n",
       "      <td>0.038492</td>\n",
       "    </tr>\n",
       "    <tr>\n",
       "      <th>12</th>\n",
       "      <td>SeniorCitizen_Yes</td>\n",
       "      <td>0.038285</td>\n",
       "    </tr>\n",
       "    <tr>\n",
       "      <th>4</th>\n",
       "      <td>TechSupport_Yes</td>\n",
       "      <td>0.037355</td>\n",
       "    </tr>\n",
       "    <tr>\n",
       "      <th>10</th>\n",
       "      <td>StreamingTV_Yes</td>\n",
       "      <td>0.031824</td>\n",
       "    </tr>\n",
       "    <tr>\n",
       "      <th>2</th>\n",
       "      <td>Contract_Two year</td>\n",
       "      <td>0.024922</td>\n",
       "    </tr>\n",
       "    <tr>\n",
       "      <th>1</th>\n",
       "      <td>Contract_One year</td>\n",
       "      <td>0.020012</td>\n",
       "    </tr>\n",
       "    <tr>\n",
       "      <th>9</th>\n",
       "      <td>StreamingTV_No internet service</td>\n",
       "      <td>0.017457</td>\n",
       "    </tr>\n",
       "    <tr>\n",
       "      <th>13</th>\n",
       "      <td>MultipleLines_No phone service</td>\n",
       "      <td>0.012306</td>\n",
       "    </tr>\n",
       "  </tbody>\n",
       "</table>\n",
       "</div>"
      ],
      "text/plain": [
       "                           Features  Feature_imp\n",
       "0                            tenure     0.426316\n",
       "5       InternetService_Fiber optic     0.119964\n",
       "7                  OnlineBackup_Yes     0.050202\n",
       "11             PaperlessBilling_Yes     0.049475\n",
       "3                OnlineSecurity_Yes     0.047806\n",
       "6    PaymentMethod_Electronic check     0.044289\n",
       "14                MultipleLines_Yes     0.041296\n",
       "8               StreamingMovies_Yes     0.038492\n",
       "12                SeniorCitizen_Yes     0.038285\n",
       "4                   TechSupport_Yes     0.037355\n",
       "10                  StreamingTV_Yes     0.031824\n",
       "2                 Contract_Two year     0.024922\n",
       "1                 Contract_One year     0.020012\n",
       "9   StreamingTV_No internet service     0.017457\n",
       "13   MultipleLines_No phone service     0.012306"
      ]
     },
     "execution_count": 39,
     "metadata": {},
     "output_type": "execute_result"
    }
   ],
   "source": [
    "pd.DataFrame({'Features' : significant_features_final,'Feature_imp' : model_dt.feature_importances_})\\\n",
    ".sort_values(by='Feature_imp',ascending=False)"
   ]
  },
  {
   "cell_type": "code",
   "execution_count": 40,
   "id": "e05374d6",
   "metadata": {},
   "outputs": [
    {
     "name": "stdout",
     "output_type": "stream",
     "text": [
      "Decision Tree Classification report (Training) :\n",
      "\n",
      "               precision    recall  f1-score   support\n",
      "\n",
      "           0       0.96      0.99      0.97      3304\n",
      "           1       0.96      0.88      0.92      1196\n",
      "\n",
      "    accuracy                           0.96      4500\n",
      "   macro avg       0.96      0.94      0.95      4500\n",
      "weighted avg       0.96      0.96      0.96      4500\n",
      "\n",
      "Decision Tree Classification report (Test) :\n",
      "\n",
      "               precision    recall  f1-score   support\n",
      "\n",
      "           0       0.82      0.83      0.83       826\n",
      "           1       0.52      0.50      0.51       299\n",
      "\n",
      "    accuracy                           0.74      1125\n",
      "   macro avg       0.67      0.66      0.67      1125\n",
      "weighted avg       0.74      0.74      0.74      1125\n",
      "\n"
     ]
    }
   ],
   "source": [
    "print('Decision Tree Classification report (Training) :\\n\\n',classification_report(ytrain, y_train_pred_dt))\n",
    "print('Decision Tree Classification report (Test) :\\n\\n',classification_report(ytest, y_test_pred_dt))"
   ]
  },
  {
   "cell_type": "markdown",
   "id": "3547a7b9",
   "metadata": {},
   "source": [
    "### 4) RandomForest Classifier"
   ]
  },
  {
   "cell_type": "code",
   "execution_count": 41,
   "id": "747a6441",
   "metadata": {},
   "outputs": [],
   "source": [
    "model_rf = RandomForestClassifier(random_state=10)\n",
    "model_rf.fit(xtrain[significant_features_final], ytrain)\n",
    "\n",
    "y_train_pred_rf = model_rf.predict(xtrain[significant_features_final])\n",
    "y_test_pred_rf = model_rf.predict(xtest[significant_features_final])"
   ]
  },
  {
   "cell_type": "code",
   "execution_count": 42,
   "id": "4983f40e",
   "metadata": {
    "scrolled": false
   },
   "outputs": [
    {
     "name": "stdout",
     "output_type": "stream",
     "text": [
      "Random Forest Classification report (Training) :\n",
      "\n",
      "               precision    recall  f1-score   support\n",
      "\n",
      "           0       0.97      0.98      0.97      3304\n",
      "           1       0.94      0.90      0.92      1196\n",
      "\n",
      "    accuracy                           0.96      4500\n",
      "   macro avg       0.95      0.94      0.95      4500\n",
      "weighted avg       0.96      0.96      0.96      4500\n",
      "\n",
      "Random Forest Classification report (Test) :\n",
      "\n",
      "               precision    recall  f1-score   support\n",
      "\n",
      "           0       0.83      0.87      0.85       826\n",
      "           1       0.59      0.50      0.54       299\n",
      "\n",
      "    accuracy                           0.77      1125\n",
      "   macro avg       0.71      0.69      0.70      1125\n",
      "weighted avg       0.76      0.77      0.77      1125\n",
      "\n"
     ]
    }
   ],
   "source": [
    "print('Random Forest Classification report (Training) :\\n\\n',classification_report(ytrain, y_train_pred_rf))\n",
    "print('Random Forest Classification report (Test) :\\n\\n',classification_report(ytest, y_test_pred_rf))"
   ]
  },
  {
   "cell_type": "markdown",
   "id": "5a946908",
   "metadata": {},
   "source": [
    "## Sampling Techniques for Class Imbalance"
   ]
  },
  {
   "cell_type": "code",
   "execution_count": 43,
   "id": "defb03e5",
   "metadata": {},
   "outputs": [],
   "source": [
    "def train_pred_report(xtrain,ytrain,xtest,ytest,xval,yval,sampling):\n",
    "    \n",
    "    model = BernoulliNB()\n",
    "    model.fit(xtrain,ytrain)\n",
    "    \n",
    "    ypred_train, yprob_train = model.predict(xtrain), model.predict_proba(xtrain)[:,1]\n",
    "    ypred_test, yprob_test = model.predict(xtest), model.predict_proba(xtest)[:,1]\n",
    "    ypred_val, yprob_val = model.predict(xval), model.predict_proba(xval)[:,1]\n",
    "    \n",
    "    temp_score = pd.DataFrame(columns=['Precision_0','Precision_1','Recall_0','Recall_1','F_score_0',\\\n",
    "                                       'F_score_1','Accuracy','roc_auc'])\n",
    "    \n",
    "    (pr0,pr1), (rc0,rc1), (f0,f1), (sup0,sup1) = metrics.precision_recall_fscore_support(ytrain,ypred_train,labels=[0,1])\n",
    "    acc, roc_auc = metrics.accuracy_score(ytrain,ypred_train), metrics.roc_auc_score(ytrain,yprob_train)\n",
    "    temp_score.loc[str(sampling)+'_Train'] = [pr0,pr1,rc0,rc1,f0,f1,acc,roc_auc]\n",
    "    \n",
    "    (pr0,pr1), (rc0,rc1), (f0,f1), (sup0,sup1) = metrics.precision_recall_fscore_support(ytest,ypred_test,labels=[0,1])\n",
    "    acc, roc_auc = metrics.accuracy_score(ytest,ypred_test), metrics.roc_auc_score(ytest,yprob_test)\n",
    "    temp_score.loc[str(sampling)+'_Test'] = [pr0,pr1,rc0,rc1,f0,f1,acc,roc_auc]\n",
    "    \n",
    "    (pr0,pr1), (rc0,rc1), (f0,f1), (sup0,sup1) = metrics.precision_recall_fscore_support(yval,ypred_val,labels=[0,1])\n",
    "    acc, roc_auc = metrics.accuracy_score(yval,ypred_val), metrics.roc_auc_score(yval,yprob_val)\n",
    "    temp_score.loc[str(sampling)+'_Val'] = [pr0,pr1,rc0,rc1,f0,f1,acc,roc_auc]\n",
    "    \n",
    "    return temp_score\n",
    "\n",
    "def bnb_model(x,y,k=5):\n",
    "    xtrain_test, xval, ytrain_test, yval = train_test_split(x,y,train_size=0.8,random_state=10,stratify=y)\n",
    "    xtrain, xtest, ytrain, ytest = train_test_split(xtrain_test,ytrain_test,train_size=0.8,random_state=10,stratify=ytrain_test)\n",
    "\n",
    "    df_score = pd.DataFrame(columns=['Precision_0','Precision_1','Recall_0','Recall_1','F_score_0',\\\n",
    "                                     'F_score_1','Accuracy','roc_auc'])\n",
    "    \n",
    "    print('Without sampling techniques')\n",
    "    score = train_pred_report(xtrain,ytrain,xtest,ytest,xval,yval,sampling=None)\n",
    "    df_score = pd.concat(objs=[df_score,score])\n",
    "\n",
    "    rus = RandomUnderSampler(random_state=7,replacement=True)\n",
    "    xrus, yrus = rus.fit_resample(xtrain,ytrain)\n",
    "    print('RandomUnderSampling')\n",
    "    score = train_pred_report(xrus,yrus,xtest,ytest,xval,yval,sampling='RUS')\n",
    "    df_score = pd.concat(objs=[df_score,score])\n",
    "    \n",
    "    nm = NearMiss(n_neighbors=k)\n",
    "    xnm, ynm = nm.fit_resample(xtrain,ytrain)\n",
    "    print('Near miss Undersampling')\n",
    "    score = train_pred_report(xnm,ynm,xtest,ytest,xval,yval,sampling='NearMiss')\n",
    "    df_score = pd.concat(objs=[df_score,score])\n",
    "\n",
    "    ros = RandomOverSampler(random_state=7)\n",
    "    xros, yros = ros.fit_resample(xtrain,ytrain)\n",
    "    print('RandomOverSampling')\n",
    "    score = train_pred_report(xros,yros,xtest,ytest,xval,yval,sampling='ROS')\n",
    "    df_score = pd.concat(objs=[df_score,score])\n",
    "\n",
    "    smt = SMOTE(random_state=7,k_neighbors=k)\n",
    "    xsmt, ysmt = smt.fit_resample(xtrain,ytrain)\n",
    "    print('SMOTE-Oversampling')\n",
    "    score = train_pred_report(xsmt, ysmt,xtest,ytest,xval,yval,sampling='SMOTE')\n",
    "    df_score = pd.concat(objs=[df_score,score])\n",
    "    \n",
    "    bsmt = BorderlineSMOTE(random_state=7,k_neighbors=k)\n",
    "    xbsmt, ybsmt = bsmt.fit_resample(xtrain,ytrain)\n",
    "    print('Borderline-SMOTE')\n",
    "    score = train_pred_report(xbsmt, ybsmt,xtest,ytest,xval,yval,sampling='BL-SMOTE')\n",
    "    df_score = pd.concat(objs=[df_score,score])\n",
    "    \n",
    "    asn = ADASYN(random_state=7,n_neighbors=k)\n",
    "    xasn, yasn = asn.fit_resample(xtrain,ytrain)\n",
    "    print('ADASYN-Oversampling')\n",
    "    score = train_pred_report(xasn, yasn,xtest,ytest,xval,yval,sampling='ADASYN')\n",
    "    df_score = pd.concat(objs=[df_score,score])\n",
    "\n",
    "    print('Completed')\n",
    "    \n",
    "    a,b = list(df_score.reset_index().iloc[:,0].str.split('_',expand=True).iloc[:,0]), list(df_score.reset_index().iloc[:,0].str.split('_',expand=True).iloc[:,1])\n",
    "    df_score.insert(0,'Sampling_Type',a)\n",
    "    df_score.insert(1,'Set_Type',b)\n",
    "    \n",
    "    plt.figure(figsize=(16,3))\n",
    "    X_axis = np.arange(df_score.Sampling_Type.nunique())\n",
    "    plt.bar(X_axis - 0.3, df_score.Recall_1[df_score.Set_Type=='Train'], 0.2, label = 'Train')\n",
    "    plt.bar(X_axis - 0.1, df_score.Recall_1[df_score.Set_Type=='Test'], 0.2, label = 'Test')\n",
    "    plt.bar(X_axis + 0.1, df_score.Recall_1[df_score.Set_Type=='Val'], 0.2, label = 'Val')\n",
    "    plt.xticks(X_axis,list(df_score.Sampling_Type.unique()))\n",
    "    plt.yticks(np.arange(0,1.01,0.1))\n",
    "    plt.xlabel('Sampling Technique')\n",
    "    plt.ylabel('Recall for not admitted')\n",
    "    plt.legend()\n",
    "    plt.show()\n",
    "    \n",
    "    plt.figure(figsize=(16,3))\n",
    "    X_axis = np.arange(df_score.Sampling_Type.nunique())\n",
    "    plt.bar(X_axis - 0.3, df_score.Precision_1[df_score.Set_Type=='Train'], 0.2, label = 'Train')\n",
    "    plt.bar(X_axis - 0.1, df_score.Precision_1[df_score.Set_Type=='Test'], 0.2, label = 'Test')\n",
    "    plt.bar(X_axis + 0.1, df_score.Precision_1[df_score.Set_Type=='Val'], 0.2, label = 'Val')\n",
    "    plt.xticks(X_axis,list(df_score.Sampling_Type.unique()))\n",
    "    plt.yticks(np.arange(0,1.01,0.1))\n",
    "    plt.xlabel('Sampling Technique')\n",
    "    plt.ylabel('Precision for not admitted')\n",
    "    plt.legend()\n",
    "    plt.show()\n",
    "    \n",
    "    return df_score"
   ]
  },
  {
   "cell_type": "code",
   "execution_count": 44,
   "id": "bde33a42",
   "metadata": {
    "scrolled": false
   },
   "outputs": [
    {
     "name": "stdout",
     "output_type": "stream",
     "text": [
      "Without sampling techniques\n",
      "RandomUnderSampling\n",
      "Near miss Undersampling\n",
      "RandomOverSampling\n",
      "SMOTE-Oversampling\n",
      "Borderline-SMOTE\n",
      "ADASYN-Oversampling\n",
      "Completed\n"
     ]
    },
    {
     "data": {
      "image/png": "[encoded data removed]",
      "text/plain": [
       "<Figure size 1152x216 with 1 Axes>"
      ]
     },
     "metadata": {
      "needs_background": "light"
     },
     "output_type": "display_data"
    },
    {
     "data": {
      "image/png": "[encoded data removed]",
      "text/plain": [
       "<Figure size 1152x216 with 1 Axes>"
      ]
     },
     "metadata": {
      "needs_background": "light"
     },
     "output_type": "display_data"
    }
   ],
   "source": [
    "bnb_model_sampling_score = bnb_model(df_final,y,k=5)"
   ]
  },
  {
   "cell_type": "markdown",
   "id": "5b9a1793",
   "metadata": {},
   "source": [
    "#### Inference\n",
    "\n",
    "- Recall had no impact after sampling\n",
    "- Precision of the training set increased but the test and the validation set remained similar"
   ]
  },
  {
   "cell_type": "code",
   "execution_count": 45,
   "id": "56488080",
   "metadata": {},
   "outputs": [],
   "source": [
    "bnb_model_sampling_score.to_csv('bnb_model_sampling_score.csv')"
   ]
  },
  {
   "cell_type": "markdown",
   "id": "c545d6e1",
   "metadata": {},
   "source": [
    "## Cross Validation Scores"
   ]
  },
  {
   "cell_type": "code",
   "execution_count": 46,
   "id": "216a29e6",
   "metadata": {},
   "outputs": [],
   "source": [
    "def precision_positive(groundtruth,prediction):\n",
    "    tn, fp, fn, tp = metrics.confusion_matrix(groundtruth,prediction).ravel()\n",
    "    return (tp/(tp+fp))*100\n",
    "        \n",
    "def precision_negative(groundtruth,prediction):\n",
    "    tn, fp, fn, tp = metrics.confusion_matrix(groundtruth,prediction).ravel()\n",
    "    return (tn/(tn+fn))*100\n",
    "\n",
    "def recall_positive(groundtruth,prediction):\n",
    "    tn, fp, fn, tp = metrics.confusion_matrix(groundtruth,prediction).ravel()\n",
    "    return (tp/(tp+fn))*100\n",
    "    \n",
    "def recall_negative(groundtruth,prediction):\n",
    "    tn, fp, fn, tp = metrics.confusion_matrix(groundtruth,prediction).ravel()\n",
    "    return (tn/(tn+fp))*100\n",
    "        \n",
    "precision_pos = metrics.make_scorer(precision_positive, greater_is_better=True)\n",
    "precision_neg = metrics.make_scorer(precision_negative, greater_is_better=True)\n",
    "recall_pos = metrics.make_scorer(recall_positive, greater_is_better=True)\n",
    "recall_neg = metrics.make_scorer(recall_negative, greater_is_better=True)"
   ]
  },
  {
   "cell_type": "code",
   "execution_count": 47,
   "id": "6a0b2930",
   "metadata": {},
   "outputs": [],
   "source": [
    "def check_cvs(cvs):\n",
    "    '''CVS Visualization'''\n",
    "    sns.kdeplot(cvs)\n",
    "    plt.show()\n",
    "    \n",
    "    '''Jarque bera test for checking normality'''\n",
    "    jb_stat, jb_pval = stats.jarque_bera(cvs)\n",
    "    jb_flag = 0\n",
    "    if jb_pval >= 0.05:\n",
    "        jb_flag = 1\n",
    "        print('Scores are normally distributed')\n",
    "    else:\n",
    "        print('Scores are not normally distributed')\n",
    "    \n",
    "    '''Checking confidence interval'''\n",
    "    mu_train, sig_train = np.mean(cvs), np.std(cvs,ddof=1)\n",
    "    print('Mean score - {:.4f} %\\nStd score - {:.4f} %'.format(mu_train,sig_train))\n",
    "    if jb_flag == 1:\n",
    "        low_limit, high_limit = stats.norm.interval(0.95,mu_train,sig_train)\n",
    "        ranges = high_limit - low_limit\n",
    "        print('95% confidence interval - {:.2f} % to {:.2f} % \\nRange - {:.4f}'.format(low_limit, high_limit, ranges))"
   ]
  },
  {
   "cell_type": "code",
   "execution_count": 48,
   "id": "69e76bf2",
   "metadata": {},
   "outputs": [],
   "source": [
    "def compare_performance_with_without_SMOTE(cvs_with,cvs_without):\n",
    "    '''Jarque bera test for checking normality'''\n",
    "    jb_stat_with, jb_pval_with = stats.jarque_bera(cvs_with)\n",
    "    jb_stat_without, jb_pval_without = stats.jarque_bera(cvs_without)\n",
    "    jb_flag = []\n",
    "\n",
    "    for pval in [jb_pval_with, jb_pval_without]:\n",
    "        if pval >= 0.05:\n",
    "            jb_flag.append(0)\n",
    "        else:\n",
    "            jb_flag.append(1)\n",
    "\n",
    "    '''Test between 2 samples based on the JB test'''\n",
    "    if sum(jb_flag) >= 1:\n",
    "        norm_stat, norm_pval = stats.mannwhitneyu(cvs_with,cvs_without)\n",
    "        method = 'Mann Whitney U test'\n",
    "    else:\n",
    "        norm_stat, norm_pval = stats.ttest_ind(cvs_with,cvs_without,random_state=10)\n",
    "        method = '2 sample t-test'\n",
    "\n",
    "    '''Checking pvalue returned and inference'''\n",
    "    if norm_pval >= 0.05:\n",
    "        print('CVS scores of the first and the second sets are statistically similar based on the {}.\\\n",
    "        \\nStat - {} Pval - {}'.format(method, norm_stat, norm_pval))\n",
    "    else:\n",
    "        print('CVS scores of the first and the second sets are statistically different from each other based on the {}.\\\n",
    "        \\nStat - {} Pval - {}'.format(method, norm_stat, norm_pval))\n",
    "\n",
    "        if method == 'Mann Whitney U test':\n",
    "            norm_stat_less, norm_pval_less = stats.mannwhitneyu(cvs_with,cvs_without,alternative='less')\n",
    "        else:\n",
    "            norm_stat_less, norm_pval_less = stats.ttest_ind(cvs_with,cvs_without,random_state=10,alternative='less')\n",
    "            \n",
    "        if norm_pval_less >= 0.05:\n",
    "            print('\\nCVS score of the second set is significantly lesser based on the {}.\\\n",
    "            \\nStat - {} Pval - {}'.format(method, norm_stat_less, norm_pval_less))\n",
    "        else:\n",
    "            if method == 'Mann Whitney U test':\n",
    "                norm_stat_greater, norm_pval_greater = stats.mannwhitneyu(cvs_with,cvs_without,alternative='greater')\n",
    "            else:\n",
    "                norm_stat_greater, norm_pval_greater = stats.ttest_ind(cvs_with,cvs_without,random_state=10,alternative='greater')\n",
    "            \n",
    "            if norm_pval_greater >= 0.05:\n",
    "                print('\\nCVS score of the second set is significantly greater based on the {}.\\\n",
    "                \\nStat - {} Pval - {}'.format(method, norm_stat_greater, norm_pval_greater))\n",
    "            else:\n",
    "                print('\\nDifferent.. Not possible')"
   ]
  },
  {
   "cell_type": "code",
   "execution_count": 49,
   "id": "dde8941b",
   "metadata": {},
   "outputs": [],
   "source": [
    "model_bnb = BernoulliNB()\n",
    "\n",
    "smt = SMOTE(random_state=10,k_neighbors=5)\n",
    "model_bnb_smt = Pipeline([('sampling', smt),('classification', model_bnb)])\n",
    "\n",
    "rus = RandomUnderSampler(random_state=7,replacement=True)\n",
    "model_bnb_rus = Pipeline([('sampling', rus),('classification', model_bnb)])\n",
    "\n",
    "kf = KFold(n_splits=10,shuffle=True,random_state=10)"
   ]
  },
  {
   "cell_type": "markdown",
   "id": "df9d0f77",
   "metadata": {},
   "source": [
    "### A) Recall for the class : churn = 1"
   ]
  },
  {
   "cell_type": "markdown",
   "id": "ee513b47",
   "metadata": {},
   "source": [
    "#### 1) Without Sampling"
   ]
  },
  {
   "cell_type": "code",
   "execution_count": 50,
   "id": "92a5dd07",
   "metadata": {},
   "outputs": [],
   "source": [
    "cvs_recall = cross_val_score(model_bnb,df_final,y,scoring=recall_pos,cv=kf)"
   ]
  },
  {
   "cell_type": "code",
   "execution_count": 51,
   "id": "75b3f91b",
   "metadata": {},
   "outputs": [
    {
     "data": {
      "image/png": "[encoded data removed]",
      "text/plain": [
       "<Figure size 432x288 with 1 Axes>"
      ]
     },
     "metadata": {
      "needs_background": "light"
     },
     "output_type": "display_data"
    },
    {
     "name": "stdout",
     "output_type": "stream",
     "text": [
      "Scores are normally distributed\n",
      "Mean score - 64.1003 %\n",
      "Std score - 2.4314 %\n",
      "95% confidence interval - 59.33 % to 68.87 % \n",
      "Range - 9.5309\n"
     ]
    }
   ],
   "source": [
    "check_cvs(cvs_recall)"
   ]
  },
  {
   "cell_type": "markdown",
   "id": "0749769f",
   "metadata": {},
   "source": [
    "### 2) SMOTE Sampling"
   ]
  },
  {
   "cell_type": "code",
   "execution_count": 52,
   "id": "6709518e",
   "metadata": {},
   "outputs": [],
   "source": [
    "cvs_recall_smt = cross_val_score(model_bnb_smt,df_final,y,scoring=recall_pos,cv=kf)"
   ]
  },
  {
   "cell_type": "code",
   "execution_count": 53,
   "id": "99735560",
   "metadata": {},
   "outputs": [
    {
     "data": {
      "image/png": "[encoded data removed]",
      "text/plain": [
       "<Figure size 432x288 with 1 Axes>"
      ]
     },
     "metadata": {
      "needs_background": "light"
     },
     "output_type": "display_data"
    },
    {
     "name": "stdout",
     "output_type": "stream",
     "text": [
      "Scores are normally distributed\n",
      "Mean score - 72.8486 %\n",
      "Std score - 4.0728 %\n",
      "95% confidence interval - 64.87 % to 80.83 % \n",
      "Range - 15.9652\n"
     ]
    }
   ],
   "source": [
    "check_cvs(cvs_recall_smt)"
   ]
  },
  {
   "cell_type": "markdown",
   "id": "0403cee2",
   "metadata": {},
   "source": [
    "### 3) Random Under Sampling "
   ]
  },
  {
   "cell_type": "code",
   "execution_count": 54,
   "id": "ea6b7acb",
   "metadata": {},
   "outputs": [],
   "source": [
    "cvs_recall_rus = cross_val_score(model_bnb_rus,df_final,y,scoring=recall_pos,cv=kf)"
   ]
  },
  {
   "cell_type": "code",
   "execution_count": 55,
   "id": "bb060d0e",
   "metadata": {},
   "outputs": [
    {
     "data": {
      "image/png": "[encoded data removed]",
      "text/plain": [
       "<Figure size 432x288 with 1 Axes>"
      ]
     },
     "metadata": {
      "needs_background": "light"
     },
     "output_type": "display_data"
    },
    {
     "name": "stdout",
     "output_type": "stream",
     "text": [
      "Scores are normally distributed\n",
      "Mean score - 76.2841 %\n",
      "Std score - 4.2378 %\n",
      "95% confidence interval - 67.98 % to 84.59 % \n",
      "Range - 16.6117\n"
     ]
    }
   ],
   "source": [
    "check_cvs(cvs_recall_rus)"
   ]
  },
  {
   "cell_type": "markdown",
   "id": "fa2c4626",
   "metadata": {},
   "source": [
    "#### Comparisions based on recall"
   ]
  },
  {
   "cell_type": "code",
   "execution_count": 56,
   "id": "b51606b2",
   "metadata": {
    "scrolled": true
   },
   "outputs": [
    {
     "name": "stdout",
     "output_type": "stream",
     "text": [
      "CVS scores of the first and the second sets are statistically different from each other based on the 2 sample t-test.        \n",
      "Stat - -5.83224350607397 Pval - 1.5919050617173828e-05\n",
      "\n",
      "CVS score of the second set is significantly greater based on the 2 sample t-test.                \n",
      "Stat - -5.83224350607397 Pval - 0.9999920404746915\n"
     ]
    }
   ],
   "source": [
    "compare_performance_with_without_SMOTE(cvs_recall,cvs_recall_smt)"
   ]
  },
  {
   "cell_type": "code",
   "execution_count": 57,
   "id": "a1a3ef7e",
   "metadata": {},
   "outputs": [
    {
     "name": "stdout",
     "output_type": "stream",
     "text": [
      "CVS scores of the first and the second sets are statistically similar based on the 2 sample t-test.        \n",
      "Stat - 1.8483899606099834 Pval - 0.08104324351027324\n"
     ]
    }
   ],
   "source": [
    "compare_performance_with_without_SMOTE(cvs_recall_rus,cvs_recall_smt)"
   ]
  },
  {
   "cell_type": "code",
   "execution_count": 58,
   "id": "f3ad4c7f",
   "metadata": {},
   "outputs": [
    {
     "name": "stdout",
     "output_type": "stream",
     "text": [
      "CVS scores of the first and the second sets are statistically different from each other based on the 2 sample t-test.        \n",
      "Stat - -7.885953305695453 Pval - 3.0049560686875317e-07\n",
      "\n",
      "CVS score of the second set is significantly greater based on the 2 sample t-test.                \n",
      "Stat - -7.885953305695453 Pval - 0.9999998497521966\n"
     ]
    }
   ],
   "source": [
    "compare_performance_with_without_SMOTE(cvs_recall,cvs_recall_rus)"
   ]
  },
  {
   "cell_type": "markdown",
   "id": "20c5b0aa",
   "metadata": {},
   "source": [
    "### B) Precision for the class : churn = 1"
   ]
  },
  {
   "cell_type": "markdown",
   "id": "8e9563a4",
   "metadata": {},
   "source": [
    "#### 1) Without Sampling"
   ]
  },
  {
   "cell_type": "code",
   "execution_count": 59,
   "id": "8b30637d",
   "metadata": {},
   "outputs": [],
   "source": [
    "model_bnb = BernoulliNB()\n",
    "kf = KFold(n_splits=10,shuffle=True,random_state=10)\n",
    "cvs_precision = cross_val_score(model_bnb,df_final,y,scoring=precision_pos,cv=kf)"
   ]
  },
  {
   "cell_type": "code",
   "execution_count": 60,
   "id": "f66e8b5d",
   "metadata": {},
   "outputs": [
    {
     "data": {
      "image/png": "[encoded data removed]",
      "text/plain": [
       "<Figure size 432x288 with 1 Axes>"
      ]
     },
     "metadata": {
      "needs_background": "light"
     },
     "output_type": "display_data"
    },
    {
     "name": "stdout",
     "output_type": "stream",
     "text": [
      "Scores are normally distributed\n",
      "Mean score - 55.3696 %\n",
      "Std score - 3.6007 %\n",
      "95% confidence interval - 48.31 % to 62.43 % \n",
      "Range - 14.1146\n"
     ]
    }
   ],
   "source": [
    "check_cvs(cvs_precision)"
   ]
  },
  {
   "cell_type": "markdown",
   "id": "106cd56c",
   "metadata": {},
   "source": [
    "### 2) SMOTE Sampling"
   ]
  },
  {
   "cell_type": "code",
   "execution_count": 61,
   "id": "88cfa7b7",
   "metadata": {},
   "outputs": [],
   "source": [
    "model_bnb = BernoulliNB()\n",
    "smt = SMOTE(random_state=10,k_neighbors=5)\n",
    "model_bnb_smt = Pipeline([('sampling', smt),('classification', model_bnb)])\n",
    "\n",
    "kf = KFold(n_splits=10,shuffle=True,random_state=10)\n",
    "cvs_precision_smt = cross_val_score(model_bnb_smt,df_final,y,scoring=precision_pos,cv=kf)"
   ]
  },
  {
   "cell_type": "code",
   "execution_count": 62,
   "id": "53451adc",
   "metadata": {},
   "outputs": [
    {
     "data": {
      "image/png": "[encoded data removed]",
      "text/plain": [
       "<Figure size 432x288 with 1 Axes>"
      ]
     },
     "metadata": {
      "needs_background": "light"
     },
     "output_type": "display_data"
    },
    {
     "name": "stdout",
     "output_type": "stream",
     "text": [
      "Scores are normally distributed\n",
      "Mean score - 51.7883 %\n",
      "Std score - 2.7454 %\n",
      "95% confidence interval - 46.41 % to 57.17 % \n",
      "Range - 10.7620\n"
     ]
    }
   ],
   "source": [
    "check_cvs(cvs_precision_smt)"
   ]
  },
  {
   "cell_type": "markdown",
   "id": "38bd9069",
   "metadata": {},
   "source": [
    "### 3) Random Under Sampling "
   ]
  },
  {
   "cell_type": "code",
   "execution_count": 63,
   "id": "e44e51f7",
   "metadata": {},
   "outputs": [],
   "source": [
    "cvs_precision_rus = cross_val_score(model_bnb_rus,df_final,y,scoring=precision_pos,cv=kf)"
   ]
  },
  {
   "cell_type": "code",
   "execution_count": 64,
   "id": "33eede5e",
   "metadata": {},
   "outputs": [
    {
     "data": {
      "image/png": "[encoded data removed]",
      "text/plain": [
       "<Figure size 432x288 with 1 Axes>"
      ]
     },
     "metadata": {
      "needs_background": "light"
     },
     "output_type": "display_data"
    },
    {
     "name": "stdout",
     "output_type": "stream",
     "text": [
      "Scores are normally distributed\n",
      "Mean score - 49.6117 %\n",
      "Std score - 3.3216 %\n",
      "95% confidence interval - 43.10 % to 56.12 % \n",
      "Range - 13.0204\n"
     ]
    }
   ],
   "source": [
    "check_cvs(cvs_precision_rus)"
   ]
  },
  {
   "cell_type": "markdown",
   "id": "e7c323ee",
   "metadata": {},
   "source": [
    "#### Comparisions based on recall"
   ]
  },
  {
   "cell_type": "code",
   "execution_count": 65,
   "id": "9cc0271f",
   "metadata": {
    "scrolled": true
   },
   "outputs": [
    {
     "name": "stdout",
     "output_type": "stream",
     "text": [
      "CVS scores of the first and the second sets are statistically different from each other based on the 2 sample t-test.        \n",
      "Stat - 2.5011181835864464 Pval - 0.022256226633854893\n",
      "\n",
      "CVS score of the second set is significantly lesser based on the 2 sample t-test.            \n",
      "Stat - 2.5011181835864464 Pval - 0.9888718866830726\n"
     ]
    }
   ],
   "source": [
    "compare_performance_with_without_SMOTE(cvs_precision,cvs_precision_smt)"
   ]
  },
  {
   "cell_type": "code",
   "execution_count": 66,
   "id": "20f3aa90",
   "metadata": {},
   "outputs": [
    {
     "name": "stdout",
     "output_type": "stream",
     "text": [
      "CVS scores of the first and the second sets are statistically similar based on the 2 sample t-test.        \n",
      "Stat - -1.5972203660861215 Pval - 0.12762285683172614\n"
     ]
    }
   ],
   "source": [
    "compare_performance_with_without_SMOTE(cvs_precision_rus,cvs_precision_smt)"
   ]
  },
  {
   "cell_type": "code",
   "execution_count": 67,
   "id": "e2a36035",
   "metadata": {},
   "outputs": [
    {
     "name": "stdout",
     "output_type": "stream",
     "text": [
      "CVS scores of the first and the second sets are statistically different from each other based on the 2 sample t-test.        \n",
      "Stat - 3.7168348087083536 Pval - 0.001578353225310111\n",
      "\n",
      "CVS score of the second set is significantly lesser based on the 2 sample t-test.            \n",
      "Stat - 3.7168348087083536 Pval - 0.999210823387345\n"
     ]
    }
   ],
   "source": [
    "compare_performance_with_without_SMOTE(cvs_precision,cvs_precision_rus)"
   ]
  },
  {
   "cell_type": "markdown",
   "id": "e2aa64e4",
   "metadata": {},
   "source": [
    "#### Inference:\n",
    "\n",
    "1. Based on the Cross validation scores, it is observed that the mean of precision and recall increased significantly after sampling.\n",
    "2. The Standard Deviation of the precision has also reduced for the Model with SMOTE sampling technique\n",
    "-----\n",
    "- Hence choosing the SMOTE technique as the sampling technique for the final model"
   ]
  },
  {
   "cell_type": "markdown",
   "id": "36c12aea",
   "metadata": {},
   "source": [
    "## Backing up details"
   ]
  },
  {
   "cell_type": "code",
   "execution_count": 68,
   "id": "02a56e33",
   "metadata": {},
   "outputs": [],
   "source": [
    "churn_df_details['df_dummy'] = df_final\n",
    "churn_df_details['df_final'] = df_final[significant_features_final]\n",
    "churn_df_details['y'] = y"
   ]
  },
  {
   "cell_type": "raw",
   "id": "eddbfa53",
   "metadata": {},
   "source": [
    "with open('churn_df_details.pkl','wb') as f:\n",
    "    pickle.dump(churn_df_details,f)\n",
    "    f.close()"
   ]
  },
  {
   "cell_type": "code",
   "execution_count": 70,
   "id": "171cae4f",
   "metadata": {},
   "outputs": [
    {
     "data": {
      "text/plain": [
       "dict_keys(['df', 'obj_cols', 'num_cols', 'significant_features', 'df_dummy', 'df_final', 'y'])"
      ]
     },
     "execution_count": 70,
     "metadata": {},
     "output_type": "execute_result"
    }
   ],
   "source": [
    "churn_df_details.keys()"
   ]
  },
  {
   "cell_type": "markdown",
   "id": "b771014e",
   "metadata": {},
   "source": [
    "# Final Model"
   ]
  },
  {
   "cell_type": "code",
   "execution_count": 71,
   "id": "cc88f3f2",
   "metadata": {},
   "outputs": [],
   "source": [
    "churn_df_details = pickle.load(open('churn_df_details.pkl','rb'))\n",
    "X, Y = churn_df_details['df_final'], churn_df_details['y']\n",
    "\n",
    "smt = SMOTE(random_state=7, k_neighbors=5)\n",
    "xsmt, ysmt = smt.fit_resample(X, Y)\n",
    "\n",
    "model_final = BernoulliNB()\n",
    "model_final.fit(xsmt,ysmt)\n",
    "\n",
    "with open('model_pkl', 'wb') as f:\n",
    "    pickle.dump(model_final, f)\n",
    "    f.close()"
   ]
  }
 ],
 "metadata": {
  "kernelspec": {
   "display_name": "Python 3 (ipykernel)",
   "language": "python",
   "name": "python3"
  },
  "language_info": {
   "codemirror_mode": {
    "name": "ipython",
    "version": 3
   },
   "file_extension": ".py",
   "mimetype": "text/x-python",
   "name": "python",
   "nbconvert_exporter": "python",
   "pygments_lexer": "ipython3",
   "version": "3.9.7"
  }
 },
 "nbformat": 4,
 "nbformat_minor": 5
}
